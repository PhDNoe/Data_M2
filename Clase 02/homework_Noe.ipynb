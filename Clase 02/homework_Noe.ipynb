{
 "cells": [
  {
   "cell_type": "markdown",
   "source": [
    "---\r\n",
    "## Homework\r\n",
    "Utilizando Python cálcular las siguientes probabilidades. Para cada uno intenta determinar que método aplicaste.<br>\r\n",
    "\r\n",
    "1. Lanza una moneda al aire 10 veces, ¿cuantos resultados posibles forman parte del espacio muestral?.\r\n",
    "2. En un aeropuerto se tiene a 10 pasajeros esperando en la sala de preembarque, la polícia debe controlar a 3 de ellos. ¿Cuantas combinaciones posibles se pueden obtener?.\r\n",
    "3. La Agencia Nacional de Seguridad Vial realizó una investigación para saber si los conductores de están usando sus cinturones de seguridad. Los datos muestrales fueron los siguientes:<br>\r\n",
    "Conductores que emplean el cinturón <br>\r\n",
    "\r\n",
    "![Ejercicio](./imgs/ejercicio3.PNG)\r\n",
    "\r\n",
    "- a) ¿Qué metodo cree que se utilizo para asignar probabilidades?.\r\n",
    "- b) Construya un cuadro similar, pero con la asignación de probabilidades.\r\n",
    "- c) ¿Cuál sería el mejor método pára estimar la probabilidad de que en Estados Unidos un conductor lleve puesto el cinturón?.\r\n",
    "- d) Un año antes, la probabilidad en Argentina de que un conductor llevara puesto el cinturón era 0.75. El director de ANSV, se esperaba que la probabilidad llegara a 0.78. ¿Estará satisfecho con los resultados del estudio? (Utilizar tabla adjunta (![Ejercicio](../_src/assets/ejercicio3.PNG))\r\n",
    "- e) ¿Cuál es la probabilidad de que se use el cinturón en las distintas regiones del país? ¿En qué región se usa más el cinturón?(Utilizar misma tabla que el ejercicio anterior).\r\n",
    "\r\n",
    "\r\n",
    "4. Crear una funcion que permita calcular a probabilidad de los siguientes eventos en un baraja de 52 cartas.<br>\r\n",
    "- Obtener una carta roja.<br>\r\n",
    "- Obtener una carta negra.<br>\r\n",
    "- Obtener una pica.<br>\r\n",
    "- Obtener un trébol.<br>\r\n",
    "- Obtener un corazón.<br>\r\n",
    "- Obtener un diamante.<br>\r\n",
    "5. La probabilidad de que salga un 7 o un 8 al seleccionar una carta de una baraja de las 52 cartas que contiene el mazo. <br>\r\n",
    "6. La probabilidad de tu país gane el mundial de fútbol.<br>\r\n",
    "7. Un experimento que tiene tres resultados es repetido 50 veces y se ve que E1 aparece 20 veces, E2 13 veces y E3 17 veces. Asigne probabilidades a los resultados.<br>\r\n",
    "\r\n",
    "\r\n",
    "## Desafíos complementarios \r\n",
    "\r\n",
    "### Investiga e intenta resolver los siguientes ejercicios\r\n",
    "\r\n",
    "1. Si la probabilidad de que un cliente pague en efectivo (E) es 6/15, con tarjeta de crédito (TD) es 7/15 y con tarjeta de débito (TD) es 2/15. Hallar la probabilidad de que dos clientes sucesivos que pagan sus cuentas lo hagan:<br>\r\n",
    " a) el primero en efectivo y el segundo con tarjeta de crédito.<br>\r\n",
    " b) Los dos clientes en efectivo<br>\r\n",
    "2. La probabilidad de que un Henry repruebe el M1 de 0.8, de que apruebe M2 es 0.5 y de que repruebe el M3 es de 0.4.<br>\r\n",
    " (Los eventos no interfieren entre si) <br>\r\n",
    "\r\n",
    "![Tabla](./imgs/probhenry.PNG)\r\n",
    "\r\n",
    "Determinar la probabilidad de que:<br>\r\n",
    " a) Apruebe un módulo.<br>\r\n",
    " b) Repruebe las tres materias.\r\n",
    "\r\n",
    " ---"
   ],
   "metadata": {}
  },
  {
   "cell_type": "markdown",
   "source": [
    "---\r\n",
    "### Ejercicio 1\r\n",
    "\r\n",
    "Calcular la probabilidad de lanzar una moneda al aire \r\n",
    "\r\n",
    "> Comentario de Noe. La probabilidad de que??? esta pregunta no tiene sentido). <br>\r\n",
    "* La pregunta debería ser --> Calcular la probabilidad de que salgan \"3 caras y 7 cruces\" o algo asi\r\n",
    "\r\n",
    "---"
   ],
   "metadata": {}
  },
  {
   "cell_type": "code",
   "execution_count": 3,
   "source": [
    "\r\n",
    "n = 10  # Cantidad de veces que se arroja la moneda\r\n",
    "\r\n",
    "def espacio_muestral_lanzar_moneda_n_veces(n=10):\r\n",
    "    m = 2   # solo hay dos posibilidades (cara o cruz)\r\n",
    "\r\n",
    "    S = m ** n   # Cantidad de elementos en el Espacio muestral\r\n",
    "\r\n",
    "    print(f\"La cantidad de elementos en el espacio muestral si se arroja una moneda {n} veces es {S}\")\r\n",
    "\r\n",
    "    return S\r\n",
    "\r\n",
    "s1 = espacio_muestral_lanzar_moneda_n_veces(n)"
   ],
   "outputs": [
    {
     "output_type": "stream",
     "name": "stdout",
     "text": [
      "La cantidad de elementos en el espacio muestral si se arroja una moneda 10 veces es 1024\n"
     ]
    }
   ],
   "metadata": {}
  },
  {
   "cell_type": "markdown",
   "source": [
    "---\r\n",
    "### Ejercicio 2\r\n",
    "En un aeropuerto se tiene a 10 pasajeros esperando en la sala de preembarque, la polícia debe controlar a 3 de ellos. ¿Cuantas combinaciones posibles se pueden obtener?.\r\n",
    "\r\n",
    "---"
   ],
   "metadata": {}
  },
  {
   "cell_type": "code",
   "execution_count": 7,
   "source": [
    "def controlar_n_pasajeros_de_m_posibles(n, m):\r\n",
    "    \"\"\"\r\n",
    "        Combinaciones posibles tomando m pasajeros de n posibles\r\n",
    "    \"\"\"\r\n",
    "    import math\r\n",
    "    combinaciones = int(math.factorial(n)/(math.factorial(m)*math.factorial(n-m)))\r\n",
    "\r\n",
    "    print(f\"Existen {combinaciones} posibles combinaciones si se desean seleccionar {m} pasajeros de un total de {n}\")\r\n",
    "    return combinaciones\r\n",
    "\r\n",
    "m = 3   # Pasajeros seleccionados\r\n",
    "n = 10  # Cantidad de pasajeros totales\r\n",
    "\r\n",
    "comb = controlar_n_pasajeros_de_m_posibles(n, m)"
   ],
   "outputs": [
    {
     "output_type": "stream",
     "name": "stdout",
     "text": [
      "Existen 120 posibles combinaciones si se desean seleccionar 3 pasajeros de un total de 10\n"
     ]
    }
   ],
   "metadata": {}
  },
  {
   "cell_type": "markdown",
   "source": [
    "---\r\n",
    "### Ejercicio 3\r\n",
    "\r\n",
    "La Agencia Nacional de Seguridad Vial realizó una investigación para saber si los conductores de están usando sus cinturones de seguridad. Los datos muestrales fueron los siguientes:<br>\r\n",
    "Conductores que emplean el cinturón\r\n",
    "\r\n",
    "![Ejercicio](./imgs/ejercicio3.PNG)\r\n",
    "\r\n",
    "\r\n",
    "- a) ¿Qué metodo cree que se utilizo para asignar probabilidades?.\r\n",
    "- b) Construya un cuadro similar, pero con la asignación de probabilidades.\r\n",
    "- c) ¿Cuál sería el mejor método pára estimar la probabilidad de que en Estados Unidos un conductor lleve puesto el cinturón?.\r\n",
    "- d) Un año antes, la probabilidad en Argentina de que un conductor llevara puesto el cinturón era 0.75. El director de ANSV, se esperaba que la probabilidad llegara a 0.78. ¿Estará satisfecho con los resultados del estudio? (Utilizar tabla adjunta (![Ejercicio](./imgs/ejercicio3.PNG))\r\n",
    "- e) ¿Cuál es la probabilidad de que se use el cinturón en las distintas regiones del país? ¿En qué región se usa más el cinturón?(Utilizar misma tabla que el ejercicio anterior).\r\n",
    "\r\n",
    "\r\n",
    "---"
   ],
   "metadata": {}
  },
  {
   "cell_type": "code",
   "execution_count": 14,
   "source": [
    "# a) Metodo utilizado: Se debe haber utilizado un metodo de frecuencias\r\n",
    "\r\n",
    "\r\n",
    "# b) Cuadro de frecuencias\r\n",
    "import numpy as np\r\n",
    "import pandas as pd\r\n",
    "\r\n",
    "\r\n",
    "Regiones = [\"Norte\", \"Noreste\", \"Sur\", \"Centro\", \"Total\"]\r\n",
    "Si = np.array([148, 162, 296, 252])\r\n",
    "No = np.array([52, 54, 74, 48])\r\n",
    "\r\n",
    "Si = np.append(Si, int(Si.sum()))\r\n",
    "No = np.append(No, int(No.sum()))\r\n",
    "\r\n",
    "df = pd.DataFrame({\"Si\": Si, \"No\": No}, index=Regiones)\r\n",
    "df[\"Todos\"]=df[\"Si\"] + df[\"No\"]\r\n",
    "\r\n",
    "Total = Si[-1] + No[-1]\r\n",
    "\r\n",
    "df = df/Total\r\n",
    "\r\n",
    "# Dataframe con las probabilidades\r\n",
    "df\r\n",
    "\r\n",
    "\r\n",
    "\r\n"
   ],
   "outputs": [
    {
     "output_type": "execute_result",
     "data": {
      "text/html": [
       "<div>\n",
       "<style scoped>\n",
       "    .dataframe tbody tr th:only-of-type {\n",
       "        vertical-align: middle;\n",
       "    }\n",
       "\n",
       "    .dataframe tbody tr th {\n",
       "        vertical-align: top;\n",
       "    }\n",
       "\n",
       "    .dataframe thead th {\n",
       "        text-align: right;\n",
       "    }\n",
       "</style>\n",
       "<table border=\"1\" class=\"dataframe\">\n",
       "  <thead>\n",
       "    <tr style=\"text-align: right;\">\n",
       "      <th></th>\n",
       "      <th>Si</th>\n",
       "      <th>No</th>\n",
       "      <th>Todos</th>\n",
       "    </tr>\n",
       "  </thead>\n",
       "  <tbody>\n",
       "    <tr>\n",
       "      <th>Norte</th>\n",
       "      <td>0.136280</td>\n",
       "      <td>0.047882</td>\n",
       "      <td>0.184162</td>\n",
       "    </tr>\n",
       "    <tr>\n",
       "      <th>Noreste</th>\n",
       "      <td>0.149171</td>\n",
       "      <td>0.049724</td>\n",
       "      <td>0.198895</td>\n",
       "    </tr>\n",
       "    <tr>\n",
       "      <th>Sur</th>\n",
       "      <td>0.272560</td>\n",
       "      <td>0.068140</td>\n",
       "      <td>0.340700</td>\n",
       "    </tr>\n",
       "    <tr>\n",
       "      <th>Centro</th>\n",
       "      <td>0.232044</td>\n",
       "      <td>0.044199</td>\n",
       "      <td>0.276243</td>\n",
       "    </tr>\n",
       "    <tr>\n",
       "      <th>Total</th>\n",
       "      <td>0.790055</td>\n",
       "      <td>0.209945</td>\n",
       "      <td>1.000000</td>\n",
       "    </tr>\n",
       "  </tbody>\n",
       "</table>\n",
       "</div>"
      ],
      "text/plain": [
       "               Si        No     Todos\n",
       "Norte    0.136280  0.047882  0.184162\n",
       "Noreste  0.149171  0.049724  0.198895\n",
       "Sur      0.272560  0.068140  0.340700\n",
       "Centro   0.232044  0.044199  0.276243\n",
       "Total    0.790055  0.209945  1.000000"
      ]
     },
     "metadata": {},
     "execution_count": 14
    }
   ],
   "metadata": {}
  },
  {
   "cell_type": "code",
   "execution_count": 27,
   "source": [
    "# c) Probabilidad de que en estados unidos lleve puesto un cinturon ?????\r\n",
    "sep = \"-----------------------------------------------------------------------------------------------\"\r\n",
    "print(sep)\r\n",
    "print(\"c) Preguntar porque no se a que se refiere\")\r\n",
    "\r\n",
    "# d) \r\n",
    "print(sep)\r\n",
    "print(\"d) Probabilidad de que lleve cinturon en Argentina (un año antes era 0.75) --> \", df.loc[\"Total\",\"Si\"].round(2))\r\n",
    "\r\n",
    "print(\"El director debe estar satisfecho porque se preveia 0.78 y se llego a \",  df.loc[\"Total\",\"Si\"].round(2))\r\n",
    "\r\n",
    "# e) Probabilidad de que se use en determinadas regiones del pais --> Ver la tabla de probabilidades anterior\r\n",
    "print(sep)\r\n",
    "print(\"e) En la zona que mas se utiliza el cinturon es \", df.drop(\"Total\", axis=0)[\"Si\"].idxmax())\r\n",
    "print(sep)"
   ],
   "outputs": [
    {
     "output_type": "stream",
     "name": "stdout",
     "text": [
      "-----------------------------------------------------------------------------------------------\n",
      "c) Preguntar porque no se a que se refiere\n",
      "-----------------------------------------------------------------------------------------------\n",
      "d) Probabilidad de que lleve cinturon en Argentina (un año antes era 0.75) -->  0.79\n",
      "El director debe estar satisfecho porque se preveia 0.78 y se llego a  0.79\n",
      "-----------------------------------------------------------------------------------------------\n",
      "e) En la zona que mas se utiliza el cinturon es  Sur\n",
      "-----------------------------------------------------------------------------------------------\n"
     ]
    }
   ],
   "metadata": {}
  },
  {
   "cell_type": "markdown",
   "source": [
    "---\r\n",
    "## Ejercicio 4\r\n",
    "\r\n",
    "\r\n",
    "4. Crear una funcion que permita calcular a probabilidad de los siguientes eventos en un baraja de 52 cartas.<br>\r\n",
    "- Obtener una carta roja.<br>\r\n",
    "- Obtener una carta negra.<br>\r\n",
    "- Obtener una pica.<br>\r\n",
    "- Obtener un trébol.<br>\r\n",
    "- Obtener un corazón.<br>\r\n",
    "- Obtener un diamante.<br>\r\n",
    "\r\n",
    "---\r\n"
   ],
   "metadata": {}
  },
  {
   "cell_type": "code",
   "execution_count": 34,
   "source": [
    "class Cartas:\r\n",
    "    def __init__(self):\r\n",
    "        self.nro_rojas = 13*2\r\n",
    "        self.nro_negras = 13*2\r\n",
    "        self.nro_corazones = 13\r\n",
    "        self.nro_diamantes = 13\r\n",
    "        self.nro_picas = 13\r\n",
    "        self.nro_treboles = 13\r\n",
    "        self.total = 13*4\r\n",
    "        self.nro_figuras = 3*4\r\n",
    "        self.nro_numeros = 10*4\r\n",
    "        self.nro_figuras_color = 3\r\n",
    "        self.nro_numeros_color = 10\r\n",
    "\r\n",
    "    # Muestra las probabilidades\r\n",
    "    def get_roja(self):\r\n",
    "        p = self.nro_rojas/self.total\r\n",
    "        print(\"Probabilidad de obtener una carta roja --> \", round(p,2))\r\n",
    "        return p\r\n",
    "\r\n",
    "    def get_negra(self):\r\n",
    "        p = self.nro_negras/self.total\r\n",
    "        print(\"Probabilidad de obtener una carta negra --> \", round(p,2))\r\n",
    "        return p\r\n",
    "\r\n",
    "    def get_pica(self):\r\n",
    "        p = self.nro_picas/self.total\r\n",
    "        print(\"Probabilidad de obtener una pica --> \", round(p,2))\r\n",
    "        return p\r\n",
    "\r\n",
    "    def get_trebol(self):\r\n",
    "        p = self.nro_treboles/self.total\r\n",
    "        print(\"Probabilidad de obtener un trebol --> \", round(p,2))\r\n",
    "        return p\r\n",
    "\r\n",
    "    def get_corazon(self):\r\n",
    "        p = self.nro_corazones/self.total\r\n",
    "        print(\"Probabilidad de obtener un corazon --> \", round(p,2))\r\n",
    "        return p\r\n",
    "\r\n",
    "    def get_diamante(self):\r\n",
    "        p = self.nro_diamantes/self.total\r\n",
    "        print(\"Probabilidad de obtener un diamante --> \", round(p,2))\r\n",
    "        return p\r\n",
    "\r\n",
    "    def get_figuras(self):\r\n",
    "        p = self.nro_figuras/self.total\r\n",
    "        print(\"Probabilidad de que salga una figura --> \", p)\r\n",
    "        return p\r\n",
    "\r\n",
    "    def get_numeros(self):\r\n",
    "        p = self.nro_numeros/self.total\r\n",
    "        print(\"Probabilidad de que salga un numero --> \", p)\r\n",
    "        return p\r\n",
    "\r\n",
    "    def get_figura(self, nombre):\r\n",
    "        p = 4/self.total\r\n",
    "        print(f\"probabilidad de obtener un {nombre} --> \", p)\r\n",
    "        return p\r\n",
    "\r\n",
    "    def get_numero(self, numero):\r\n",
    "        p = 4/self.total\r\n",
    "        print(f\"Probabilidad de obtener un {numero} --> \", p)\r\n",
    "        return p\r\n",
    "\r\n",
    "\r\n",
    "    # Retorna las probabilidades (no las muestra)\r\n",
    "\r\n",
    "    def p_roja(self):\r\n",
    "        p = self.nro_rojas/self.total        \r\n",
    "        return p\r\n",
    "\r\n",
    "    def p_negra(self):\r\n",
    "        p = self.nro_negras/self.total        \r\n",
    "        return p\r\n",
    "\r\n",
    "    def p_pica(self):\r\n",
    "        p = self.nro_picas/self.total        \r\n",
    "        return p\r\n",
    "\r\n",
    "    def p_trebol(self):\r\n",
    "        p = self.nro_treboles/self.total        \r\n",
    "        return p\r\n",
    "\r\n",
    "    def p_corazon(self):\r\n",
    "        p = self.nro_corazones/self.total        \r\n",
    "        return p\r\n",
    "\r\n",
    "    def p_diamante(self):\r\n",
    "        p = self.nro_diamantes/self.total        \r\n",
    "        return p\r\n",
    "\r\n",
    "    def p_figuras(self):\r\n",
    "        p = self.nro_figuras/self.total        \r\n",
    "        return p\r\n",
    "\r\n",
    "    def p_numeros(self):\r\n",
    "        p = self.nro_numeros/self.total        \r\n",
    "        return p\r\n",
    "\r\n",
    "    def p_figura(self, nombre):\r\n",
    "        p = 4/self.total\r\n",
    "        return p\r\n",
    "\r\n",
    "    def p_numero(self, numero):\r\n",
    "        p = 4/self.total\r\n",
    "        return p\r\n",
    "\r\n",
    "    def get_total(self):\r\n",
    "        return self.total\r\n",
    "\r\n",
    "        \r\n",
    "c = Cartas()\r\n",
    "\r\n",
    "# obtener roja\r\n",
    "c.get_roja()\r\n",
    "\r\n",
    "# obtener negra\r\n",
    "c.get_negra()\r\n",
    "\r\n",
    "# obtener pica\r\n",
    "c.get_pica()\r\n",
    "\r\n",
    "# obtener trebol\r\n",
    "c.get_trebol()\r\n",
    "\r\n",
    "# obtener corazon\r\n",
    "c.get_corazon()\r\n",
    "\r\n",
    "# obtener diamante\r\n",
    "c.get_diamante()\r\n",
    "\r\n"
   ],
   "outputs": [
    {
     "output_type": "stream",
     "name": "stdout",
     "text": [
      "Probabilidad de obtener una carta roja -->  0.5\n",
      "Probabilidad de obtener una carta negra -->  0.5\n",
      "Probabilidad de obtener una pica -->  0.25\n",
      "Probabilidad de obtener un trebol -->  0.25\n",
      "Probabilidad de obtener un corazon -->  0.25\n",
      "Probabilidad de obtener un diamante -->  0.25\n"
     ]
    },
    {
     "output_type": "execute_result",
     "data": {
      "text/plain": [
       "0.25"
      ]
     },
     "metadata": {},
     "execution_count": 34
    }
   ],
   "metadata": {}
  },
  {
   "cell_type": "markdown",
   "source": [
    "---\r\n",
    "### Ejercicio 5\r\n",
    "La probabilidad de que salga un 7 o un 8 al seleccionar una carta de una baraja de las 52 cartas que contiene el mazo. <br>\r\n",
    "\r\n",
    "---"
   ],
   "metadata": {}
  },
  {
   "cell_type": "code",
   "execution_count": 45,
   "source": [
    "# P(7 u 8) = P(7) + P(8)\r\n",
    "\r\n",
    "p = c.p_numero(7)+c.p_numero(8)\r\n",
    "\r\n",
    "print(\"Probabilidad de que salga un 7 o un 8 --> \", round(p,2))"
   ],
   "outputs": [
    {
     "output_type": "stream",
     "name": "stdout",
     "text": [
      "Probabilidad de que salga un 7 o un 8 -->  0.15\n"
     ]
    }
   ],
   "metadata": {}
  },
  {
   "cell_type": "code",
   "execution_count": 41,
   "source": [
    "4/52"
   ],
   "outputs": [
    {
     "output_type": "execute_result",
     "data": {
      "text/plain": [
       "0.07692307692307693"
      ]
     },
     "metadata": {},
     "execution_count": 41
    }
   ],
   "metadata": {}
  },
  {
   "cell_type": "markdown",
   "source": [
    "---\r\n",
    "### Ejercicio 6\r\n",
    "\r\n",
    "La probabilidad de tu país gane el mundial de fútbol.<br>\r\n",
    "\r\n",
    "---"
   ],
   "metadata": {}
  },
  {
   "cell_type": "code",
   "execution_count": null,
   "source": [
    "# Por simple inspeccion seria \r\n",
    "\r\n",
    "n = 1  # 1 pais\r\n",
    "total = 32  # total de paises participando\r\n",
    "p = n/total\r\n",
    "\r\n",
    "# Pero esto no es tan asi\r\n",
    "# P = p16 * p8 * p4 * p2 * pfinal\r\n",
    "# siendo, p16 probabilidad de que pase fase de eliminacion\r\n",
    "# p8 probabilidad de que pase los octavos de final\r\n",
    "# p4 probabilidad de que pase los cuartos de final\r\n",
    "# p2 probabilidad de que pase la semifinal\r\n",
    "# pfinal probabilidad de que gane\r\n",
    "\r\n"
   ],
   "outputs": [],
   "metadata": {}
  },
  {
   "cell_type": "markdown",
   "source": [
    "---\r\n",
    "### Ejercicio 7\r\n",
    "\r\n",
    "Un experimento que tiene tres resultados es repetido 50 veces y se ve que E1 aparece 20 veces, E2 13 veces y E3 17 veces. Asigne probabilidades a los resultados.<br>\r\n",
    "\r\n",
    "---"
   ],
   "metadata": {}
  },
  {
   "cell_type": "code",
   "execution_count": 46,
   "source": [
    "E1 = 20\r\n",
    "E2 = 13\r\n",
    "E3 = 17\r\n",
    "total = E1 + E2 + E3\r\n",
    "\r\n",
    "p1 = E1/total\r\n",
    "p2 = E2/total\r\n",
    "p3 = E3/total\r\n",
    "\r\n",
    "print(f\"Probabilidad de E1 = {p1}\")\r\n",
    "print(f\"Probabilidad de E2 = {p2}\")\r\n",
    "print(f\"Probabilidad de E3 = {p3}\")"
   ],
   "outputs": [
    {
     "output_type": "stream",
     "name": "stdout",
     "text": [
      "Probabilidad de E1 = 0.4\n",
      "Probabilidad de E2 = 0.26\n",
      "Probabilidad de E3 = 0.34\n"
     ]
    }
   ],
   "metadata": {}
  },
  {
   "cell_type": "markdown",
   "source": [
    "---\r\n",
    "## Desafios complementarios\r\n",
    "\r\n",
    "---\r\n",
    "1. Si la probabilidad de que un cliente pague en efectivo (E) es 6/15, con tarjeta de crédito (TD) es 7/15 y con tarjeta de débito (TD) es 2/15. Hallar la probabilidad de que dos clientes sucesivos que pagan sus cuentas lo hagan:<br>\r\n",
    " a) el primero en efectivo y el segundo con tarjeta de crédito.<br>\r\n",
    " b) Los dos clientes en efectivo<br>\r\n",
    "\r\n",
    " ---"
   ],
   "metadata": {}
  },
  {
   "cell_type": "code",
   "execution_count": 48,
   "source": [
    "p_efectivo = 6/15   # (0.4)\r\n",
    "p_credito = 7/15    # (0.47)\r\n",
    "p_debito = 2/15     # (0.13)\r\n",
    "\r\n",
    "# a) dos clientes sucesivos 1 con efectivo y el segundo con credito\r\n",
    "\r\n",
    "# Los eventos son independientes (que un cliente pague con un medio, no condiciona a que el segundo lo haga con el medio que prefiera)\r\n",
    "p1 = p_efectivo * p_credito\r\n",
    "\r\n",
    "p2 = p_efectivo **2\r\n",
    "\r\n",
    "print(\"Probabilidad de que el primero pague en efectivo y el segundo con credito es --> \", round(p1,2))\r\n",
    "print(\"Probabilidad de que ambos clientes paguen en efectivo --> \", round(p2,2))"
   ],
   "outputs": [
    {
     "output_type": "stream",
     "name": "stdout",
     "text": [
      "Probabilidad de que el primero pague en efectivo y el segundo con credito es -->  0.19\n",
      "Probabilidad de que ambos clientes paguen en efectivo -->  0.16\n"
     ]
    }
   ],
   "metadata": {}
  },
  {
   "cell_type": "markdown",
   "source": [
    "---\r\n",
    "\r\n",
    "2. La probabilidad de que un Henry repruebe el M1 de 0.8, de que apruebe M2 es 0.5 y de que repruebe el M3 es de 0.4.<br>\r\n",
    " (Los eventos no interfieren entre si) <br>\r\n",
    "\r\n",
    " Determinar la probabilidad de que:<br>\r\n",
    " a) Apruebe un módulo.<br>\r\n",
    " b) Repruebe las tres materias.\r\n",
    "\r\n",
    " ---"
   ],
   "metadata": {}
  },
  {
   "cell_type": "code",
   "execution_count": 52,
   "source": [
    "p_apruebe_M1 = 0.2\r\n",
    "p_apruebe_M2 = 0.5\r\n",
    "p_apruebe_M3 = 0.6\r\n",
    "\r\n",
    "# a) Probabilidad de que apruebe 1 modulo (solo 1)\r\n",
    "\r\n",
    "p_apruebe_solo_1 = p_apruebe_M1 * (1-p_apruebe_M2) * (1-p_apruebe_M3) + p_apruebe_M2 * (1-p_apruebe_M1) * (1-p_apruebe_M3) + p_apruebe_M3 * (1-p_apruebe_M1) * (1-p_apruebe_M2) \r\n",
    "\r\n",
    "# Probabilidad de que repruebe las 3 materias\r\n",
    "p_repruebe_3 = (1-p_apruebe_M1) *(1-p_apruebe_M2)*(1-p_apruebe_M3)\r\n",
    "\r\n",
    "p_apruebe_todas = 1 - p_repruebe_3\r\n",
    "\r\n",
    "\r\n",
    "sep = \"---------------------------------------------------------------------------------------\"\r\n",
    "print(sep)\r\n",
    "print(\"Probabilida de que apruebe 1 modulo (y desapruebe los otros 2) --> \", round(p_apruebe_solo_1,2))\r\n",
    "print(sep)\r\n",
    "print(\"Probabilidad de que repruebe las 3 materias --> \", round(p_repruebe_3,2))\r\n",
    "print(sep)\r\n",
    "print(\"Probabilidad de que apruebe las 3 materias --> \", round(p_apruebe_todas,2))\r\n",
    "print(sep)"
   ],
   "outputs": [
    {
     "output_type": "stream",
     "name": "stdout",
     "text": [
      "---------------------------------------------------------------------------------------\n",
      "Probabilida de que apruebe 1 modulo (y desapruebe los otros 2) -->  0.44\n",
      "---------------------------------------------------------------------------------------\n",
      "Probabilidad de que repruebe las 3 materias -->  0.16\n",
      "---------------------------------------------------------------------------------------\n",
      "Probabilidad de que apruebe las 3 materias -->  0.84\n",
      "---------------------------------------------------------------------------------------\n"
     ]
    }
   ],
   "metadata": {}
  }
 ],
 "metadata": {
  "orig_nbformat": 4,
  "language_info": {
   "name": "python",
   "version": "3.7.9",
   "mimetype": "text/x-python",
   "codemirror_mode": {
    "name": "ipython",
    "version": 3
   },
   "pygments_lexer": "ipython3",
   "nbconvert_exporter": "python",
   "file_extension": ".py"
  },
  "kernelspec": {
   "name": "python3",
   "display_name": "Python 3.7.9 64-bit ('tensorflow': conda)"
  },
  "interpreter": {
   "hash": "3c8d1d2a25cdde75dbf1c2bdac63de99d2a191c856d481faee4414c996579bad"
  }
 },
 "nbformat": 4,
 "nbformat_minor": 2
}