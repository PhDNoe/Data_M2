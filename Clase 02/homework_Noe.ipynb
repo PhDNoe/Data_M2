{
 "cells": [
  {
   "cell_type": "markdown",
   "metadata": {},
   "source": [
    "---\n",
    "## Homework\n",
    "Utilizando Python cálcular las siguientes probabilidades. Para cada uno intenta determinar que método aplicaste.<br>\n",
    "\n",
    "1. Lanza una moneda al aire 10 veces, ¿cuantos resultados posibles forman parte del espacio muestral?.\n",
    "2. En un aeropuerto se tiene a 10 pasajeros esperando en la sala de preembarque, la polícia debe controlar a 3 de ellos. ¿Cuantas combinaciones posibles se pueden obtener?.\n",
    "3. La Agencia Nacional de Seguridad Vial realizó una investigación para saber si los conductores de están usando sus cinturones de seguridad. Los datos muestrales fueron los siguientes:<br>\n",
    "Conductores que emplean el cinturón <br>\n",
    "\n",
    "![Ejercicio](./imgs/ejercicio3.PNG)\n",
    "\n",
    "- a) ¿Qué metodo cree que se utilizo para asignar probabilidades?.\n",
    "- b) Construya un cuadro similar, pero con la asignación de probabilidades.\n",
    "- c) ¿Cuál sería el mejor método pára estimar la probabilidad de que en Estados Unidos un conductor lleve puesto el cinturón?.\n",
    "- d) Un año antes, la probabilidad en Argentina de que un conductor llevara puesto el cinturón era 0.75. El director de ANSV, se esperaba que la probabilidad llegara a 0.78. ¿Estará satisfecho con los resultados del estudio? (Utilizar tabla adjunta (![Ejercicio](../_src/assets/ejercicio3.PNG))\n",
    "- e) ¿Cuál es la probabilidad de que se use el cinturón en las distintas regiones del país? ¿En qué región se usa más el cinturón?(Utilizar misma tabla que el ejercicio anterior).\n",
    "\n",
    "\n",
    "4. Crear una funcion que permita calcular a probabilidad de los siguientes eventos en un baraja de 52 cartas.<br>\n",
    "- Obtener una carta roja.<br>\n",
    "- Obtener una carta negra.<br>\n",
    "- Obtener una pica.<br>\n",
    "- Obtener un trébol.<br>\n",
    "- Obtener un corazón.<br>\n",
    "- Obtener un diamante.<br>\n",
    "5. La probabilidad de que salga un 7 o un 8 al seleccionar una carta de una baraja de las 52 cartas que contiene el mazo. <br>\n",
    "6. La probabilidad de tu país gane el mundial de fútbol.<br>\n",
    "7. Un experimento que tiene tres resultados es repetido 50 veces y se ve que E1 aparece 20 veces, E2 13 veces y E3 17 veces. Asigne probabilidades a los resultados.<br>\n",
    "\n",
    "\n",
    "## Desafíos complementarios \n",
    "\n",
    "### Investiga e intenta resolver los siguientes ejercicios\n",
    "\n",
    "1. Si la probabilidad de que un cliente pague en efectivo (E) es 6/15, con tarjeta de crédito (TD) es 7/15 y con tarjeta de débito (TD) es 2/15. Hallar la probabilidad de que dos clientes sucesivos que pagan sus cuentas lo hagan:<br>\n",
    " a) el primero en efectivo y el segundo con tarjeta de crédito.<br>\n",
    " b) Los dos clientes en efectivo<br>\n",
    "2. La probabilidad de que un Henry repruebe el M1 de 0.8, de que apruebe M2 es 0.5 y de que repruebe el M3 es de 0.4.<br>\n",
    " (Los eventos no interfieren entre si) <br>\n",
    "\n",
    "![Tabla](./imgs/probhenry.PNG)\n",
    "\n",
    "Determinar la probabilidad de que:<br>\n",
    " a) Apruebe un módulo.<br>\n",
    " b) Repruebe las tres materias.\n",
    "\n",
    " ---"
   ]
  },
  {
   "cell_type": "markdown",
   "metadata": {},
   "source": [
    "---\n",
    "### Ejercicio 1\n",
    "\n",
    "Calcular la probabilidad de lanzar una moneda al aire \n",
    "\n",
    "> Comentario de Noe. La probabilidad de que??? esta pregunta no tiene sentido). <br>\n",
    "* La pregunta debería ser --> Calcular la probabilidad de que salgan \"3 caras y 7 cruces\" o algo asi\n",
    "\n",
    "---"
   ]
  },
  {
   "cell_type": "code",
   "execution_count": 3,
   "metadata": {},
   "outputs": [
    {
     "name": "stdout",
     "output_type": "stream",
     "text": [
      "La cantidad de elementos en el espacio muestral si se arroja una moneda 10 veces es 1024\n"
     ]
    }
   ],
   "source": [
    "\n",
    "n = 10  # Cantidad de veces que se arroja la moneda\n",
    "\n",
    "def espacio_muestral_lanzar_moneda_n_veces(n=10):\n",
    "    m = 2   # solo hay dos posibilidades (cara o cruz)\n",
    "\n",
    "    S = m ** n   # Cantidad de elementos en el Espacio muestral\n",
    "\n",
    "    print(f\"La cantidad de elementos en el espacio muestral si se arroja una moneda {n} veces es {S}\")\n",
    "\n",
    "    return S\n",
    "\n",
    "s1 = espacio_muestral_lanzar_moneda_n_veces(n)"
   ]
  },
  {
   "cell_type": "markdown",
   "metadata": {},
   "source": [
    "---\n",
    "### Ejercicio 2\n",
    "En un aeropuerto se tiene a 10 pasajeros esperando en la sala de preembarque, la polícia debe controlar a 3 de ellos. ¿Cuantas combinaciones posibles se pueden obtener?.\n",
    "\n",
    "---"
   ]
  },
  {
   "cell_type": "code",
   "execution_count": 7,
   "metadata": {},
   "outputs": [
    {
     "name": "stdout",
     "output_type": "stream",
     "text": [
      "Existen 120 posibles combinaciones si se desean seleccionar 3 pasajeros de un total de 10\n"
     ]
    }
   ],
   "source": [
    "def controlar_n_pasajeros_de_m_posibles(n, m):\n",
    "    \"\"\"\n",
    "        Combinaciones posibles tomando m pasajeros de n posibles\n",
    "    \"\"\"\n",
    "    import math\n",
    "    combinaciones = int(math.factorial(n)/(math.factorial(m)*math.factorial(n-m)))\n",
    "\n",
    "    print(f\"Existen {combinaciones} posibles combinaciones si se desean seleccionar {m} pasajeros de un total de {n}\")\n",
    "    return combinaciones\n",
    "\n",
    "m = 3   # Pasajeros seleccionados\n",
    "n = 10  # Cantidad de pasajeros totales\n",
    "\n",
    "comb = controlar_n_pasajeros_de_m_posibles(n, m)"
   ]
  },
  {
   "cell_type": "markdown",
   "metadata": {},
   "source": [
    "---\n",
    "### Ejercicio 3\n",
    "\n",
    "La Agencia Nacional de Seguridad Vial realizó una investigación para saber si los conductores de están usando sus cinturones de seguridad. Los datos muestrales fueron los siguientes:<br>\n",
    "Conductores que emplean el cinturón\n",
    "\n",
    "![Ejercicio](./imgs/ejercicio3.PNG)\n",
    "\n",
    "\n",
    "- a) ¿Qué metodo cree que se utilizo para asignar probabilidades?.\n",
    "- b) Construya un cuadro similar, pero con la asignación de probabilidades.\n",
    "- c) ¿Cuál sería el mejor método pára estimar la probabilidad de que en Estados Unidos un conductor lleve puesto el cinturón?.\n",
    "- d) Un año antes, la probabilidad en Argentina de que un conductor llevara puesto el cinturón era 0.75. El director de ANSV, se esperaba que la probabilidad llegara a 0.78. ¿Estará satisfecho con los resultados del estudio? (Utilizar tabla adjunta (![Ejercicio](./imgs/ejercicio3.PNG))\n",
    "- e) ¿Cuál es la probabilidad de que se use el cinturón en las distintas regiones del país? ¿En qué región se usa más el cinturón?(Utilizar misma tabla que el ejercicio anterior).\n",
    "\n",
    "\n",
    "---"
   ]
  },
  {
   "cell_type": "code",
   "execution_count": 7,
   "metadata": {},
   "outputs": [
    {
     "data": {
      "text/html": [
       "<div>\n",
       "<style scoped>\n",
       "    .dataframe tbody tr th:only-of-type {\n",
       "        vertical-align: middle;\n",
       "    }\n",
       "\n",
       "    .dataframe tbody tr th {\n",
       "        vertical-align: top;\n",
       "    }\n",
       "\n",
       "    .dataframe thead th {\n",
       "        text-align: right;\n",
       "    }\n",
       "</style>\n",
       "<table border=\"1\" class=\"dataframe\">\n",
       "  <thead>\n",
       "    <tr style=\"text-align: right;\">\n",
       "      <th></th>\n",
       "      <th>Si</th>\n",
       "      <th>No</th>\n",
       "      <th>Todos</th>\n",
       "    </tr>\n",
       "  </thead>\n",
       "  <tbody>\n",
       "    <tr>\n",
       "      <th>Norte</th>\n",
       "      <td>0.136280</td>\n",
       "      <td>0.047882</td>\n",
       "      <td>0.184162</td>\n",
       "    </tr>\n",
       "    <tr>\n",
       "      <th>Noreste</th>\n",
       "      <td>0.149171</td>\n",
       "      <td>0.049724</td>\n",
       "      <td>0.198895</td>\n",
       "    </tr>\n",
       "    <tr>\n",
       "      <th>Sur</th>\n",
       "      <td>0.272560</td>\n",
       "      <td>0.068140</td>\n",
       "      <td>0.340700</td>\n",
       "    </tr>\n",
       "    <tr>\n",
       "      <th>Centro</th>\n",
       "      <td>0.232044</td>\n",
       "      <td>0.044199</td>\n",
       "      <td>0.276243</td>\n",
       "    </tr>\n",
       "    <tr>\n",
       "      <th>Total</th>\n",
       "      <td>0.790055</td>\n",
       "      <td>0.209945</td>\n",
       "      <td>1.000000</td>\n",
       "    </tr>\n",
       "  </tbody>\n",
       "</table>\n",
       "</div>"
      ],
      "text/plain": [
       "               Si        No     Todos\n",
       "Norte    0.136280  0.047882  0.184162\n",
       "Noreste  0.149171  0.049724  0.198895\n",
       "Sur      0.272560  0.068140  0.340700\n",
       "Centro   0.232044  0.044199  0.276243\n",
       "Total    0.790055  0.209945  1.000000"
      ]
     },
     "execution_count": 7,
     "metadata": {},
     "output_type": "execute_result"
    }
   ],
   "source": [
    "# a) Metodo utilizado: Se debe haber utilizado un metodo de frecuencias\n",
    "\n",
    "\n",
    "# b) Cuadro de frecuencias\n",
    "import numpy as np\n",
    "import pandas as pd\n",
    "\n",
    "\n",
    "Regiones = [\"Norte\", \"Noreste\", \"Sur\", \"Centro\", \"Total\"]\n",
    "Si = np.array([148, 162, 296, 252])\n",
    "No = np.array([52, 54, 74, 48])\n",
    "\n",
    "Si = np.append(Si, int(Si.sum()))\n",
    "No = np.append(No, int(No.sum()))\n",
    "\n",
    "df = pd.DataFrame({\"Si\": Si, \"No\": No}, index=Regiones)\n",
    "df[\"Todos\"]=df[\"Si\"] + df[\"No\"]\n",
    "\n",
    "Total = Si[-1] + No[-1]\n",
    "\n",
    "df = df/Total\n",
    "\n",
    "# Dataframe con las probabilidades\n",
    "df\n",
    "\n",
    "\n",
    "\n"
   ]
  },
  {
   "cell_type": "code",
   "execution_count": 27,
   "metadata": {},
   "outputs": [
    {
     "name": "stdout",
     "output_type": "stream",
     "text": [
      "-----------------------------------------------------------------------------------------------\n",
      "c) Preguntar porque no se a que se refiere\n",
      "-----------------------------------------------------------------------------------------------\n",
      "d) Probabilidad de que lleve cinturon en Argentina (un año antes era 0.75) -->  0.79\n",
      "El director debe estar satisfecho porque se preveia 0.78 y se llego a  0.79\n",
      "-----------------------------------------------------------------------------------------------\n",
      "e) En la zona que mas se utiliza el cinturon es  Sur\n",
      "-----------------------------------------------------------------------------------------------\n"
     ]
    }
   ],
   "source": [
    "# c) Probabilidad de que en estados unidos lleve puesto un cinturon ?????\n",
    "sep = \"-----------------------------------------------------------------------------------------------\"\n",
    "print(sep)\n",
    "print(\"c) Preguntar porque no se a que se refiere\")\n",
    "\n",
    "# d) \n",
    "print(sep)\n",
    "print(\"d) Probabilidad de que lleve cinturon en Argentina (un año antes era 0.75) --> \", df.loc[\"Total\",\"Si\"].round(2))\n",
    "\n",
    "print(\"El director debe estar satisfecho porque se preveia 0.78 y se llego a \",  df.loc[\"Total\",\"Si\"].round(2))\n",
    "\n",
    "# e) Probabilidad de que se use en determinadas regiones del pais --> Ver la tabla de probabilidades anterior\n",
    "print(sep)\n",
    "print(\"e) En la zona que mas se utiliza el cinturon es \", df.drop(\"Total\", axis=0)[\"Si\"].idxmax())\n",
    "print(sep)"
   ]
  },
  {
   "cell_type": "markdown",
   "metadata": {},
   "source": [
    "---\n",
    "## Ejercicio 4\n",
    "\n",
    "\n",
    "4. Crear una funcion que permita calcular a probabilidad de los siguientes eventos en un baraja de 52 cartas.<br>\n",
    "- Obtener una carta roja.<br>\n",
    "- Obtener una carta negra.<br>\n",
    "- Obtener una pica.<br>\n",
    "- Obtener un trébol.<br>\n",
    "- Obtener un corazón.<br>\n",
    "- Obtener un diamante.<br>\n",
    "\n",
    "---\n"
   ]
  },
  {
   "cell_type": "code",
   "execution_count": 34,
   "metadata": {},
   "outputs": [
    {
     "name": "stdout",
     "output_type": "stream",
     "text": [
      "Probabilidad de obtener una carta roja -->  0.5\n",
      "Probabilidad de obtener una carta negra -->  0.5\n",
      "Probabilidad de obtener una pica -->  0.25\n",
      "Probabilidad de obtener un trebol -->  0.25\n",
      "Probabilidad de obtener un corazon -->  0.25\n",
      "Probabilidad de obtener un diamante -->  0.25\n"
     ]
    },
    {
     "data": {
      "text/plain": [
       "0.25"
      ]
     },
     "execution_count": 34,
     "metadata": {},
     "output_type": "execute_result"
    }
   ],
   "source": [
    "class Cartas:\n",
    "    def __init__(self):\n",
    "        self.nro_rojas = 13*2\n",
    "        self.nro_negras = 13*2\n",
    "        self.nro_corazones = 13\n",
    "        self.nro_diamantes = 13\n",
    "        self.nro_picas = 13\n",
    "        self.nro_treboles = 13\n",
    "        self.total = 13*4\n",
    "        self.nro_figuras = 3*4\n",
    "        self.nro_numeros = 10*4\n",
    "        self.nro_figuras_color = 3\n",
    "        self.nro_numeros_color = 10\n",
    "\n",
    "    # Muestra las probabilidades\n",
    "    def get_roja(self):\n",
    "        p = self.nro_rojas/self.total\n",
    "        print(\"Probabilidad de obtener una carta roja --> \", round(p,2))\n",
    "        return p\n",
    "\n",
    "    def get_negra(self):\n",
    "        p = self.nro_negras/self.total\n",
    "        print(\"Probabilidad de obtener una carta negra --> \", round(p,2))\n",
    "        return p\n",
    "\n",
    "    def get_pica(self):\n",
    "        p = self.nro_picas/self.total\n",
    "        print(\"Probabilidad de obtener una pica --> \", round(p,2))\n",
    "        return p\n",
    "\n",
    "    def get_trebol(self):\n",
    "        p = self.nro_treboles/self.total\n",
    "        print(\"Probabilidad de obtener un trebol --> \", round(p,2))\n",
    "        return p\n",
    "\n",
    "    def get_corazon(self):\n",
    "        p = self.nro_corazones/self.total\n",
    "        print(\"Probabilidad de obtener un corazon --> \", round(p,2))\n",
    "        return p\n",
    "\n",
    "    def get_diamante(self):\n",
    "        p = self.nro_diamantes/self.total\n",
    "        print(\"Probabilidad de obtener un diamante --> \", round(p,2))\n",
    "        return p\n",
    "\n",
    "    def get_figuras(self):\n",
    "        p = self.nro_figuras/self.total\n",
    "        print(\"Probabilidad de que salga una figura --> \", p)\n",
    "        return p\n",
    "\n",
    "    def get_numeros(self):\n",
    "        p = self.nro_numeros/self.total\n",
    "        print(\"Probabilidad de que salga un numero --> \", p)\n",
    "        return p\n",
    "\n",
    "    def get_figura(self, nombre):\n",
    "        p = 4/self.total\n",
    "        print(f\"probabilidad de obtener un {nombre} --> \", p)\n",
    "        return p\n",
    "\n",
    "    def get_numero(self, numero):\n",
    "        p = 4/self.total\n",
    "        print(f\"Probabilidad de obtener un {numero} --> \", p)\n",
    "        return p\n",
    "\n",
    "\n",
    "    # Retorna las probabilidades (no las muestra)\n",
    "\n",
    "    def p_roja(self):\n",
    "        p = self.nro_rojas/self.total        \n",
    "        return p\n",
    "\n",
    "    def p_negra(self):\n",
    "        p = self.nro_negras/self.total        \n",
    "        return p\n",
    "\n",
    "    def p_pica(self):\n",
    "        p = self.nro_picas/self.total        \n",
    "        return p\n",
    "\n",
    "    def p_trebol(self):\n",
    "        p = self.nro_treboles/self.total        \n",
    "        return p\n",
    "\n",
    "    def p_corazon(self):\n",
    "        p = self.nro_corazones/self.total        \n",
    "        return p\n",
    "\n",
    "    def p_diamante(self):\n",
    "        p = self.nro_diamantes/self.total        \n",
    "        return p\n",
    "\n",
    "    def p_figuras(self):\n",
    "        p = self.nro_figuras/self.total        \n",
    "        return p\n",
    "\n",
    "    def p_numeros(self):\n",
    "        p = self.nro_numeros/self.total        \n",
    "        return p\n",
    "\n",
    "    def p_figura(self, nombre):\n",
    "        p = 4/self.total\n",
    "        return p\n",
    "\n",
    "    def p_numero(self, numero):\n",
    "        p = 4/self.total\n",
    "        return p\n",
    "\n",
    "    def get_total(self):\n",
    "        return self.total\n",
    "\n",
    "        \n",
    "c = Cartas()\n",
    "\n",
    "# obtener roja\n",
    "c.get_roja()\n",
    "\n",
    "# obtener negra\n",
    "c.get_negra()\n",
    "\n",
    "# obtener pica\n",
    "c.get_pica()\n",
    "\n",
    "# obtener trebol\n",
    "c.get_trebol()\n",
    "\n",
    "# obtener corazon\n",
    "c.get_corazon()\n",
    "\n",
    "# obtener diamante\n",
    "c.get_diamante()\n",
    "\n"
   ]
  },
  {
   "cell_type": "markdown",
   "metadata": {},
   "source": [
    "---\n",
    "### Ejercicio 5\n",
    "La probabilidad de que salga un 7 o un 8 al seleccionar una carta de una baraja de las 52 cartas que contiene el mazo. <br>\n",
    "\n",
    "---"
   ]
  },
  {
   "cell_type": "code",
   "execution_count": 45,
   "metadata": {},
   "outputs": [
    {
     "name": "stdout",
     "output_type": "stream",
     "text": [
      "Probabilidad de que salga un 7 o un 8 -->  0.15\n"
     ]
    }
   ],
   "source": [
    "# P(7 u 8) = P(7) + P(8)\n",
    "\n",
    "p = c.p_numero(7)+c.p_numero(8)\n",
    "\n",
    "print(\"Probabilidad de que salga un 7 o un 8 --> \", round(p,2))"
   ]
  },
  {
   "cell_type": "code",
   "execution_count": 8,
   "metadata": {},
   "outputs": [
    {
     "data": {
      "text/plain": [
       "0.15384615384615385"
      ]
     },
     "execution_count": 8,
     "metadata": {},
     "output_type": "execute_result"
    }
   ],
   "source": [
    "4/52+4/52"
   ]
  },
  {
   "cell_type": "markdown",
   "metadata": {},
   "source": [
    "---\n",
    "### Ejercicio 6\n",
    "\n",
    "La probabilidad de tu país gane el mundial de fútbol.<br>\n",
    "\n",
    "---"
   ]
  },
  {
   "cell_type": "code",
   "execution_count": null,
   "metadata": {},
   "outputs": [],
   "source": [
    "# Por simple inspeccion seria \n",
    "\n",
    "n = 1  # 1 pais\n",
    "total = 32  # total de paises participando\n",
    "p = n/total\n",
    "\n",
    "# Pero esto no es tan asi\n",
    "# P = p16 * p8 * p4 * p2 * pfinal\n",
    "# siendo, p16 probabilidad de que pase fase de eliminacion\n",
    "# p8 probabilidad de que pase los octavos de final\n",
    "# p4 probabilidad de que pase los cuartos de final\n",
    "# p2 probabilidad de que pase la semifinal\n",
    "# pfinal probabilidad de que gane\n",
    "\n"
   ]
  },
  {
   "cell_type": "markdown",
   "metadata": {},
   "source": [
    "---\n",
    "### Ejercicio 7\n",
    "\n",
    "Un experimento que tiene tres resultados es repetido 50 veces y se ve que E1 aparece 20 veces, E2 13 veces y E3 17 veces. Asigne probabilidades a los resultados.<br>\n",
    "\n",
    "---"
   ]
  },
  {
   "cell_type": "code",
   "execution_count": 46,
   "metadata": {},
   "outputs": [
    {
     "name": "stdout",
     "output_type": "stream",
     "text": [
      "Probabilidad de E1 = 0.4\n",
      "Probabilidad de E2 = 0.26\n",
      "Probabilidad de E3 = 0.34\n"
     ]
    }
   ],
   "source": [
    "E1 = 20\n",
    "E2 = 13\n",
    "E3 = 17\n",
    "total = E1 + E2 + E3\n",
    "\n",
    "p1 = E1/total\n",
    "p2 = E2/total\n",
    "p3 = E3/total\n",
    "\n",
    "print(f\"Probabilidad de E1 = {p1}\")\n",
    "print(f\"Probabilidad de E2 = {p2}\")\n",
    "print(f\"Probabilidad de E3 = {p3}\")"
   ]
  },
  {
   "cell_type": "markdown",
   "metadata": {},
   "source": [
    "---\n",
    "## Desafios complementarios\n",
    "\n",
    "---\n",
    "1. Si la probabilidad de que un cliente pague en efectivo (E) es 6/15, con tarjeta de crédito (TD) es 7/15 y con tarjeta de débito (TD) es 2/15. Hallar la probabilidad de que dos clientes sucesivos que pagan sus cuentas lo hagan:<br>\n",
    " a) el primero en efectivo y el segundo con tarjeta de crédito.<br>\n",
    " b) Los dos clientes en efectivo<br>\n",
    "\n",
    " ---"
   ]
  },
  {
   "cell_type": "code",
   "execution_count": 48,
   "metadata": {},
   "outputs": [
    {
     "name": "stdout",
     "output_type": "stream",
     "text": [
      "Probabilidad de que el primero pague en efectivo y el segundo con credito es -->  0.19\n",
      "Probabilidad de que ambos clientes paguen en efectivo -->  0.16\n"
     ]
    }
   ],
   "source": [
    "p_efectivo = 6/15   # (0.4)\n",
    "p_credito = 7/15    # (0.47)\n",
    "p_debito = 2/15     # (0.13)\n",
    "\n",
    "# a) dos clientes sucesivos 1 con efectivo y el segundo con credito\n",
    "\n",
    "# Los eventos son independientes (que un cliente pague con un medio, no condiciona a que el segundo lo haga con el medio que prefiera)\n",
    "p1 = p_efectivo * p_credito\n",
    "\n",
    "p2 = p_efectivo **2\n",
    "\n",
    "print(\"Probabilidad de que el primero pague en efectivo y el segundo con credito es --> \", round(p1,2))\n",
    "print(\"Probabilidad de que ambos clientes paguen en efectivo --> \", round(p2,2))"
   ]
  },
  {
   "cell_type": "markdown",
   "metadata": {},
   "source": [
    "---\n",
    "\n",
    "2. La probabilidad de que un Henry repruebe el M1 de 0.8, de que apruebe M2 es 0.5 y de que repruebe el M3 es de 0.4.<br>\n",
    " (Los eventos no interfieren entre si) <br>\n",
    "\n",
    " Determinar la probabilidad de que:<br>\n",
    " a) Apruebe un módulo.<br>\n",
    " b) Repruebe las tres materias.\n",
    "\n",
    " ---"
   ]
  },
  {
   "cell_type": "code",
   "execution_count": 52,
   "metadata": {},
   "outputs": [
    {
     "name": "stdout",
     "output_type": "stream",
     "text": [
      "---------------------------------------------------------------------------------------\n",
      "Probabilida de que apruebe 1 modulo (y desapruebe los otros 2) -->  0.44\n",
      "---------------------------------------------------------------------------------------\n",
      "Probabilidad de que repruebe las 3 materias -->  0.16\n",
      "---------------------------------------------------------------------------------------\n",
      "Probabilidad de que apruebe las 3 materias -->  0.84\n",
      "---------------------------------------------------------------------------------------\n"
     ]
    }
   ],
   "source": [
    "p_apruebe_M1 = 0.2\n",
    "p_apruebe_M2 = 0.5\n",
    "p_apruebe_M3 = 0.6\n",
    "\n",
    "# a) Probabilidad de que apruebe 1 modulo (solo 1)\n",
    "\n",
    "p_apruebe_solo_1 = p_apruebe_M1 * (1-p_apruebe_M2) * (1-p_apruebe_M3) + p_apruebe_M2 * (1-p_apruebe_M1) * (1-p_apruebe_M3) + p_apruebe_M3 * (1-p_apruebe_M1) * (1-p_apruebe_M2) \n",
    "\n",
    "# Probabilidad de que repruebe las 3 materias\n",
    "p_repruebe_3 = (1-p_apruebe_M1) *(1-p_apruebe_M2)*(1-p_apruebe_M3)\n",
    "\n",
    "p_apruebe_todas = 1 - p_repruebe_3\n",
    "\n",
    "\n",
    "sep = \"---------------------------------------------------------------------------------------\"\n",
    "print(sep)\n",
    "print(\"Probabilida de que apruebe 1 modulo (y desapruebe los otros 2) --> \", round(p_apruebe_solo_1,2))\n",
    "print(sep)\n",
    "print(\"Probabilidad de que repruebe las 3 materias --> \", round(p_repruebe_3,2))\n",
    "print(sep)\n",
    "print(\"Probabilidad de que apruebe las 3 materias --> \", round(p_apruebe_todas,2))\n",
    "print(sep)"
   ]
  }
 ],
 "metadata": {
  "kernelspec": {
   "display_name": "Python 3.10.7 64-bit",
   "language": "python",
   "name": "python3"
  },
  "language_info": {
   "codemirror_mode": {
    "name": "ipython",
    "version": 3
   },
   "file_extension": ".py",
   "mimetype": "text/x-python",
   "name": "python",
   "nbconvert_exporter": "python",
   "pygments_lexer": "ipython3",
   "version": "3.10.7"
  },
  "orig_nbformat": 4,
  "vscode": {
   "interpreter": {
    "hash": "91feae2c62c7f7dd8c694bfef93388a2801ca0d10da16ba22787f425e87199c5"
   }
  }
 },
 "nbformat": 4,
 "nbformat_minor": 2
}
