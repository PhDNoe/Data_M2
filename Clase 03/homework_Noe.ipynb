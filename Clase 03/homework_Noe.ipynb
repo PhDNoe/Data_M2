{
 "cells": [
  {
   "cell_type": "markdown",
   "metadata": {},
   "source": [
    "---\n",
    "## Homework\n",
    "\n",
    "1. Suponga dos eventos, A y B, y que P(A) = 0.50, P(B) = 0.60 y P(A ∩ B) = 0.40.<br>\n",
    "- a. Halle P(A | B).\n",
    "- b. Halle P(B | A).\n",
    "- c. ¿A y B son independientes? ¿Por qué sí o por qué no?\n",
    "\n",
    "2. Suponga dos eventos, A y B, que son mutuamente excluyentes. Admita, además, que P(A) = 0.30 y P(B) = 0.40.<br>\n",
    "- a. Obtenga P(A ∩ B). ¿Existe intersección entre los dos conjuntos?.\n",
    "- b. Calcule P(A | B).\n",
    "- c. Un estudiante de estadística argumenta que los conceptos de eventos mutuamente excluyentes y eventos independientes son en realidad lo mismo y que si los eventos son mutuamente excluyentes deben ser también independientes. ¿Está usted de acuerdo? Use la información sobre las probabilidades para justificar su respuesta.\n",
    "\n",
    "Dada la siguiente tabla:<br>\n",
    "![Sucesos](./imgs/sucesos.PNG)<br>\n",
    "\n",
    "3. Si en la concesionaria se seleccionan dos ventas con reposición (Los sucesos son independientes.). Hallar la probabilidad de que las ventas sean:<br>\n",
    " \n",
    "  - a. La primera de un comprador de “menos de 40 años” y la segunda de uno de \"entre 40 y 50 años\". \n",
    "  \n",
    "  - b. las dos sean de autos \"nacionales\".\n",
    "\n",
    "4. Si la selección de las dos ventas se realiza sin reposición. Hallar la probabilidad de que las ventas sean:<br>\n",
    "  Los sucesos son condicionales.\n",
    "\n",
    " - a. la primera de un comprador de “menos de 40 años” y la segunda de uno de \"entre 40 y 50 años\".\n",
    "\n",
    " - b. las dos sean de autos \"nacionales\".\n",
    "\n",
    "5. Si la selección de las dos ventas se realiza sin reposición. Hallar la probabilidad de que las ventas sean:<br>\n",
    "  Los sucesos son condicionales.\n",
    "  \n",
    " - a. De un comprador de “menos de 40 años” y de uno de \"entre 40 y 50 años\".\n",
    "\n",
    " 6. Debido al aumento de los costos de los seguros, en un país 43 millones de personas, hay personas que no cuentan con un seguro médico. En la tabla siguiente se muestran datos muestrales representativos de la cantidad de personas que cuentan con seguro médico:<br>\n",
    " ![Seguro](./imgs/seguro.PNG)\n",
    "\n",
    "- a. Con estos datos elabore una tabla de probabilidad conjunta y úsela para responder las preguntas restantes.\n",
    "- b. ¿Qué indican las probabilidades marginales acerca de la edad de la población?\n",
    "- c. ¿Cuál es la probabilidad de que una persona tomada en forma aleatoria no tenga seguro médico?\n",
    "- d. Si la persona tiene entre 18 y 34 años, ¿cuál es la probabilidad de que no tenga seguro médico?\n",
    "- e. Si la persona tiene 35 años o más ¿cuál es la probabilidad de que no tenga seguro médico?\n",
    "- f. Si la persona no tiene seguro médico, ¿cuál es la probabilidad de que tenga entre 18 y 34 años?\n",
    "\n",
    "---"
   ]
  },
  {
   "cell_type": "markdown",
   "metadata": {},
   "source": [
    "---\n",
    "### Ejercicio 1\n",
    "\n",
    "1. Suponga dos eventos, A y B, y que P(A) = 0.50, P(B) = 0.60 y P(A ∩ B) = 0.40.<br>\n",
    "- a. Halle P(A | B).\n",
    "- b. Halle P(B | A).\n",
    "- c. ¿A y B son independientes? ¿Por qué sí o por qué no?\n",
    "\n",
    "---"
   ]
  },
  {
   "cell_type": "code",
   "execution_count": 1,
   "metadata": {},
   "outputs": [
    {
     "name": "stdout",
     "output_type": "stream",
     "text": [
      "P(A/B) =  0.6666666666666667\n",
      "P(B/A) =  0.8\n"
     ]
    }
   ],
   "source": [
    "P_a = 0.5\n",
    "P_b = 0.6\n",
    "P_a_y_b = 0.4\n",
    "\n",
    "P_a_dado_b = P_a_y_b / P_b\n",
    "P_b_dado_a = P_a_y_b / P_a\n",
    "\n",
    "print(\"P(A/B) = \", P_a_dado_b)\n",
    "print(\"P(B/A) = \", P_b_dado_a)\n"
   ]
  },
  {
   "cell_type": "code",
   "execution_count": 2,
   "metadata": {},
   "outputs": [
    {
     "name": "stdout",
     "output_type": "stream",
     "text": [
      "Dado que P(A) = 0.5 es distinto a P(A/B) = 0.6666666666666667, se concluye que los eventos no son independientes\n"
     ]
    }
   ],
   "source": [
    "print(f\"Dado que P(A) = {P_a} es distinto a P(A/B) = {P_a_dado_b}, se concluye que los eventos no son independientes\")"
   ]
  },
  {
   "cell_type": "markdown",
   "metadata": {},
   "source": [
    "---\n",
    "### Ejercicio 2\n",
    "\n",
    "2. Suponga dos eventos, A y B, que son mutuamente excluyentes. Admita, además, que P(A) = 0.30 y P(B) = 0.40.<br>\n",
    "- a. Obtenga P(A ∩ B). ¿Existe intersección entre los dos conjuntos?.\n",
    "- b. Calcule P(A | B).\n",
    "- c. Un estudiante de estadística argumenta que los conceptos de eventos mutuamente excluyentes y eventos independientes son en realidad lo mismo y que si los eventos son mutuamente excluyentes deben ser también independientes. ¿Está usted de acuerdo? Use la información sobre las probabilidades para justificar su respuesta.\n",
    "\n",
    "---"
   ]
  },
  {
   "cell_type": "code",
   "execution_count": 4,
   "metadata": {},
   "outputs": [
    {
     "name": "stdout",
     "output_type": "stream",
     "text": [
      "a) Dado que los dos eventos son mutuamente excluyentes, P(A y B) =  0\n"
     ]
    }
   ],
   "source": [
    "# a) Por definición si dos eventos son mutuamente excluyentes, no pueden tener intersección\n",
    "\n",
    "P_a_y_b = 0  # por definicion\n",
    "\n",
    "print(\"a) Dado que los dos eventos son mutuamente excluyentes, P(A y B) = \", P_a_y_b)\n"
   ]
  },
  {
   "cell_type": "code",
   "execution_count": 9,
   "metadata": {},
   "outputs": [
    {
     "name": "stdout",
     "output_type": "stream",
     "text": [
      "b) La probabilidad de que dado B  ocurra A,\n",
      " es decir P(A/B) = 0\n"
     ]
    }
   ],
   "source": [
    "# P(A/B) = P(A y B) / P(B)  y dado que P(A y B)= 0 --> P(A/B) = 0\n",
    "print(\"b) La probabilidad de que dado B  ocurra A,\\n es decir P(A/B) = 0\")"
   ]
  },
  {
   "cell_type": "code",
   "execution_count": 13,
   "metadata": {},
   "outputs": [
    {
     "name": "stdout",
     "output_type": "stream",
     "text": [
      "\n",
      "c) Que dos eventos sean mutuamente excluyentes, quiere decir que la ocurrencia de uno\n",
      "impide la ocurrencia de otro.\n",
      "Por ejemplo, llueve o no llueve. Cuando dos eventos son mutuamente excluyentes, la interseccion de los mismos es vacia.\n",
      "\n",
      "Que dos eventos sean independientes, quiere decir que la ocurrencia de uno, no influye en la ocurrencia del otro.\n",
      "Por ejemplo: que llueva y que salga un seis en un lanzamiento de dados.\n",
      "Cuando dos eventos son independientes, la probabilidad de la interseccion es el producto de las probabilidades.\n",
      "O bien que la probilidad condicional P(A/B) = P(A)\n",
      "\n",
      "En los eventos anteriores, que se sabe son mutuamente excluyentes, se tiene que \n",
      "P(A/B) = 0, pero P(A) = 0.3 \n",
      "--> con lo cual es evidente que los mismos no cumplen la propiedad de independencia.\n",
      "\n"
     ]
    }
   ],
   "source": [
    "speech = \"\"\"\n",
    "c) Que dos eventos sean mutuamente excluyentes, quiere decir que la ocurrencia de uno\n",
    "impide la ocurrencia de otro.\n",
    "Por ejemplo, llueve o no llueve. Cuando dos eventos son mutuamente excluyentes, la interseccion de los mismos es vacia.\n",
    "\n",
    "Que dos eventos sean independientes, quiere decir que la ocurrencia de uno, no influye en la ocurrencia del otro.\n",
    "Por ejemplo: que llueva y que salga un seis en un lanzamiento de dados.\n",
    "Cuando dos eventos son independientes, la probabilidad de la interseccion es el producto de las probabilidades.\n",
    "O bien que la probilidad condicional P(A/B) = P(A)\n",
    "\n",
    "En los eventos anteriores, que se sabe son mutuamente excluyentes, se tiene que \n",
    "P(A/B) = 0, pero P(A) = 0.3 \n",
    "--> con lo cual es evidente que los mismos no cumplen la propiedad de independencia.\n",
    "\"\"\"\n",
    "\n",
    "print(speech)"
   ]
  },
  {
   "cell_type": "markdown",
   "metadata": {},
   "source": [
    "---\n",
    "### Ejercicio 3\n",
    "\n",
    "\n",
    "Dada la siguiente tabla:<br>\n",
    "![Sucesos](./imgs/sucesos.PNG)<br>\n",
    "\n",
    "Si en la concesionaria se seleccionan dos ventas con reposición (Los sucesos son independientes.). Hallar la probabilidad de que las ventas sean:<br>\n",
    " \n",
    "  - a. La primera de un comprador de “menos de 40 años” y la segunda de uno de \"entre 40 y 50 años\". \n",
    "  \n",
    "  - b. las dos sean de autos \"nacionales\".\n",
    "\n",
    "\n",
    "---"
   ]
  },
  {
   "cell_type": "code",
   "execution_count": 42,
   "metadata": {},
   "outputs": [
    {
     "name": "stdout",
     "output_type": "stream",
     "text": [
      "a) La probabilidad de que el primer comprador sea menor a 40 y \n",
      " el segundo este entre 40 y 50 es  0.159375\n"
     ]
    }
   ],
   "source": [
    "P_menor_40 = 30 / 80\n",
    "\n",
    "P_entre_40_y_50 =34 / 80\n",
    "\n",
    "P_mas_de_50 = 16 / 80\n",
    "\n",
    "P_nacional = 50 / 80\n",
    "\n",
    "P_importado = 30 / 80\n",
    "\n",
    "# a) Probabilidad de 1er comprador menor de 40 y segundo entre 40 y 50\n",
    "\n",
    "P1 = P_menor_40 * P_entre_40_y_50\n",
    "print(\"a) La probabilidad de que el primer comprador sea menor a 40 y \\n el segundo este entre 40 y 50 es \", P1)\n",
    "\n"
   ]
  },
  {
   "cell_type": "code",
   "execution_count": 17,
   "metadata": {},
   "outputs": [
    {
     "name": "stdout",
     "output_type": "stream",
     "text": [
      "b) La probabilidad de que ambos autos sean nacionales es  0.390625\n"
     ]
    }
   ],
   "source": [
    "# Los dos sean autos nacionales\n",
    "\n",
    "P2 = P_nacional * P_nacional\n",
    "print(\"b) La probabilidad de que ambos autos sean nacionales es \", P2)"
   ]
  },
  {
   "cell_type": "markdown",
   "metadata": {},
   "source": [
    "---\n",
    "## Ejercicio 4\n",
    "\n",
    "Si la selección de las dos ventas se realiza sin reposición. Hallar la probabilidad de que las ventas sean:<br>\n",
    "  Los sucesos son condicionales.\n",
    "\n",
    " - a. la primera de un comprador de “menos de 40 años” y la segunda de uno de \"entre 40 y 50 años\".\n",
    "\n",
    " - b. las dos sean de autos \"nacionales\".\n",
    "\n",
    "---\n"
   ]
  },
  {
   "cell_type": "code",
   "execution_count": 43,
   "metadata": {},
   "outputs": [
    {
     "name": "stdout",
     "output_type": "stream",
     "text": [
      "a) La probabilidad de que el primero tenga menos de 40 y el segundo entre 40 y 50 (sin reposicion) es  0.16139240506329114\n"
     ]
    }
   ],
   "source": [
    "P_1er_menos_40 = 30/80\n",
    "P_2do_entre_40_y_50 = 34/79\n",
    "\n",
    "P1 = P_1er_menos_40 * P_2do_entre_40_y_50\n",
    "\n",
    "print(\"a) La probabilidad de que el primero tenga menos de 40 y el segundo entre 40 y 50 (sin reposicion) es \", P1)"
   ]
  },
  {
   "cell_type": "code",
   "execution_count": 44,
   "metadata": {},
   "outputs": [
    {
     "name": "stdout",
     "output_type": "stream",
     "text": [
      "b) La probabilidad de que el primero y el segundo sean nacionales es  0.3876582278481012\n"
     ]
    }
   ],
   "source": [
    "P_1er_nacional = 50/80\n",
    "P_2do_nacional = 49/79\n",
    "\n",
    "P2 = P_1er_nacional * P_2do_nacional\n",
    "\n",
    "print(\"b) La probabilidad de que el primero y el segundo sean nacionales es \", P2)"
   ]
  },
  {
   "cell_type": "markdown",
   "metadata": {},
   "source": [
    "---\n",
    "### Ejercicio 5\n",
    "\n",
    "\n",
    "Si la selección de las dos ventas se realiza sin reposición. Hallar la probabilidad de que las ventas sean:<br>\n",
    "  Los sucesos son condicionales.\n",
    "  \n",
    " - a. De un comprador de “menos de 40 años” y de uno de \"entre 40 y 50 años\".\n",
    "\n",
    "---"
   ]
  },
  {
   "cell_type": "code",
   "execution_count": 23,
   "metadata": {},
   "outputs": [
    {
     "name": "stdout",
     "output_type": "stream",
     "text": [
      "La probabilidad de que las compras sean de un comprador de menos de 40, \n",
      "y otro entre 40 y 50 es 0.3227848101265823\n"
     ]
    }
   ],
   "source": [
    "P_1er_menos_40 = 30/80\n",
    "P_1er_entre_40_y_50 = 34/80\n",
    "\n",
    "P_2do_entre_40_y_50_si_1er_menos_40 = 34/79\n",
    "P_2do_menos_40_si_1er_entre_40_y_50 = 30/79\n",
    "\n",
    "P1 = P_1er_menos_40 * P_2do_entre_40_y_50_si_1er_menos_40 + \\\n",
    "    P_1er_entre_40_y_50 * P_2do_menos_40_si_1er_entre_40_y_50\n",
    "\n",
    "print(\"La probabilidad de que las compras sean de un comprador de menos de 40, \\ny otro entre 40 y 50 es\", P1)"
   ]
  },
  {
   "cell_type": "markdown",
   "metadata": {},
   "source": [
    "---\n",
    "### Ejercicio 6\n",
    "\n",
    "Debido al aumento de los costos de los seguros, en un país 43 millones de personas, hay personas que no cuentan con un seguro médico. En la tabla siguiente se muestran datos muestrales representativos de la cantidad de personas que cuentan con seguro médico:<br>\n",
    " ![Seguro](./imgs/seguro.PNG)\n",
    "\n",
    "- a. Con estos datos elabore una tabla de probabilidad conjunta y úsela para responder las preguntas restantes.\n",
    "- b. ¿Qué indican las probabilidades marginales acerca de la edad de la población?\n",
    "- c. ¿Cuál es la probabilidad de que una persona tomada en forma aleatoria no tenga seguro médico?\n",
    "- d. Si la persona tiene entre 18 y 34 años, ¿cuál es la probabilidad de que no tenga seguro médico?\n",
    "- e. Si la persona tiene 35 años o más ¿cuál es la probabilidad de que no tenga seguro médico?\n",
    "- f. Si la persona no tiene seguro médico, ¿cuál es la probabilidad de que tenga entre 18 y 34 años?\n",
    "\n",
    "---"
   ]
  },
  {
   "cell_type": "code",
   "execution_count": 30,
   "metadata": {},
   "outputs": [
    {
     "name": "stdout",
     "output_type": "stream",
     "text": [
      "b) Probabilidades marginales edades --> \n",
      "P_18_34 = 0.46 \n",
      "P_35 = 0.54\n",
      "Quiere decir que hay mas individuos mayores a 35 años que menores de 34\n"
     ]
    }
   ],
   "source": [
    "total = 750 + 170 + 950 + 130\n",
    "total_si = 750+950\n",
    "total_no = 170+130\n",
    "total_18_34 = 750 + 170\n",
    "total_35 = 950 + 130\n",
    "\n",
    "P_18_34 = (750+170)/total\n",
    "P_35 = (950+130)/total\n",
    "P_si = (750+950)/total\n",
    "P_no = (170+130)/total\n",
    "\n",
    "P_18_si = 750/total_si  # Probabilida de que si tiene seguro, tenga entre 18 y 34\n",
    "P_35_si = 950/total_si  # Probabilidad de que si tiene seguro, tenga mas de 35\n",
    "P_18_no = 170/total_no  # Probabilidad de que si no tiene seguro, tenga entre 18 y 34\n",
    "P_35_no = 130/total_no  # probabilidad de que si no tiene seguro, tenga mas de 35\n",
    "\n",
    "print(f\"b) Probabilidades marginales edades --> \\nP_18_34 = {P_18_34} \\nP_35 = {P_35}\")\n",
    "print(\"Quiere decir que hay mas individuos mayores a 35 años que menores de 34\")"
   ]
  },
  {
   "cell_type": "code",
   "execution_count": 29,
   "metadata": {},
   "outputs": [
    {
     "name": "stdout",
     "output_type": "stream",
     "text": [
      "c) La probabilidad de que una persona no tenga seguro medico es 0.15\n"
     ]
    }
   ],
   "source": [
    "print(f\"c) La probabilidad de que una persona no tenga seguro medico es {P_no}\")"
   ]
  },
  {
   "cell_type": "code",
   "execution_count": 32,
   "metadata": {},
   "outputs": [
    {
     "name": "stdout",
     "output_type": "stream",
     "text": [
      "d) La probabilidad de que si la persona tiene entre 18 y 34, \n",
      "tenga seguro es 0.8152173913043478\n"
     ]
    }
   ],
   "source": [
    "P_si_18 = 750/total_18_34\n",
    "\n",
    "print(f\"d) La probabilidad de que si la persona tiene entre 18 y 34, \\ntenga seguro es {P_si_18}\")"
   ]
  },
  {
   "cell_type": "code",
   "execution_count": 35,
   "metadata": {},
   "outputs": [
    {
     "name": "stdout",
     "output_type": "stream",
     "text": [
      "d) (Utilizando teorema de bayes) La probabilidad de que si la persona \n",
      "tiene entre 18 y 34 tenga seguro \n",
      "es 0.8152173913043478\n"
     ]
    }
   ],
   "source": [
    "# Otra forma, por teorema de bayes\n",
    "# P(si/18_34) = P(18_34/si) * P(si)\n",
    "\n",
    "P2 = P_18_si * P_si\n",
    "print(f\"d) (Utilizando teorema de bayes) La probabilidad de que si la persona \\ntiene entre 18 y 34 tenga seguro \\nes {P_si_18}\")"
   ]
  },
  {
   "cell_type": "code",
   "execution_count": 38,
   "metadata": {},
   "outputs": [
    {
     "name": "stdout",
     "output_type": "stream",
     "text": [
      "e) La probabilidad de que si es mayor a 35 tenga seguro es 0.8796296296296297\n"
     ]
    }
   ],
   "source": [
    "P_si_35 = 950 / total_35\n",
    "\n",
    "print(f\"e) La probabilidad de que si es mayor a 35 tenga seguro es\", P_si_35)"
   ]
  },
  {
   "cell_type": "code",
   "execution_count": 41,
   "metadata": {},
   "outputs": [
    {
     "name": "stdout",
     "output_type": "stream",
     "text": [
      "f) La probabilidad de que si no tiene seguro tenga menos de 34 años es  0.5666666666666667\n"
     ]
    }
   ],
   "source": [
    "P_18_no = 170 / total_no\n",
    "\n",
    "print(\"f) La probabilidad de que si no tiene seguro tenga menos de 34 años es \", P_18_no)"
   ]
  }
 ],
 "metadata": {
  "kernelspec": {
   "display_name": "Python 3.10.7 64-bit",
   "language": "python",
   "name": "python3"
  },
  "language_info": {
   "codemirror_mode": {
    "name": "ipython",
    "version": 3
   },
   "file_extension": ".py",
   "mimetype": "text/x-python",
   "name": "python",
   "nbconvert_exporter": "python",
   "pygments_lexer": "ipython3",
   "version": "3.10.7"
  },
  "orig_nbformat": 4,
  "vscode": {
   "interpreter": {
    "hash": "91feae2c62c7f7dd8c694bfef93388a2801ca0d10da16ba22787f425e87199c5"
   }
  }
 },
 "nbformat": 4,
 "nbformat_minor": 2
}
