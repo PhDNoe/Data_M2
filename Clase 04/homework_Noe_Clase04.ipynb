{
 "cells": [
  {
   "cell_type": "markdown",
   "source": [
    "---\r\n",
    "\r\n",
    "\r\n",
    "## Homework <br>\r\n",
    "\r\n",
    "1. Considera el experimento que consiste en un empleado que arma un producto.\r\n",
    "  - a. Defina la variable aleatoria que represente el tiempo en minutos requerido para armar el producto.<br>\r\n",
    "  - b. ¿Qué valores toma la variable aleatoria?<br>\r\n",
    "  - c. ¿Es una variable aleatoria discreta o continua?<br>\r\n",
    "2. Considera el experimento que consiste en lanzar una moneda dos veces.\r\n",
    "  - a. Enumere los resultados experimentales.\r\n",
    "  - b. Defina una variable aleatoria que represente el número de caras en los dos lanzamientos.\r\n",
    "  - c. Dé el valor que la variable aleatoria tomará en cada uno de los resultados experimentales.\r\n",
    "  - d. ¿Es una variable aleatoria discreta o continua?\r\n",
    "3. Considera las decisiones de compra de los próximos tres clientes que lleguen a la tienda de ropa Martin Clothing Store. De acuerdo con la experiencia, el gerente de la tienda estima que la probabilidad de que un cliente realice una compra es 0.30. \r\n",
    "  - a. Describa si cumple con las reglas para clasificarlo como un experimiento binomial.\r\n",
    "  - b. ¿Cuál es la probabilidad de que dos de los próximos tres clientes realicen una compra?\r\n",
    "  - c. ¿Cuál es la probabilidad de que cuatro de los próximos diez clientes realicen una compra?\r\n",
    "4.  A la oficina de reservaciones de una aerolínea regional llegan 48 llamadas por hora.\r\n",
    "- a. Calcule la probabilidad de recibir cinco llamadas en un lapso de 5 minutos.\r\n",
    "- b. Estime la probabilidad de recibir exactamente 10 llamadas en un lapso de 15 minutos.\r\n",
    "- c. Suponga que no hay ninguna llamada en espera. Si el agente de viajes necesitará 5 minutos para la llamada que está atendiendo, ¿cuántas llamadas habrá en espera para cuando él termine? ¿Cuál es la probabilidad de que no haya ninguna llamada en espera?\r\n",
    "- d. Si en este momento no hay ninguna llamada, ¿cuál es la probabilidad de que el agente de viajes pueda tomar 3 minutos de descanso sin ser interrumpido por una llamada?\r\n",
    "5. En una encuesta realizada por Gallup Organization, se les preguntó a los interrogados, “Cuál es el deporte que prefieres ver”. Futbol y básquetbol ocuparon el primero y segundo lugar de preferencia (www.gallup.com, 3 de enero de 2004). Si en un grupo de 10 individuos, siete prefieren futbol y tres prefieren básquetbol. Se toma una muestra aleatoria de tres de estas personas.\r\n",
    "- a. ¿Cuál es la probabilidad de que exactamente dos prefieren el futbol?\r\n",
    "- b. ¿De que la mayoría (ya sean dos o tres) prefiere el futbol?\r\n",
    "6. La probabilidad de que a un estudiante le guste este modulo es de 0.7 (en Henry somos optimistas), cual es la probabilidad de que les guste este módulo a 6 de los 10 estudiantes.<br>\r\n",
    "7. De todos los push a Git en un Henry Challenge, el 90% lo envía a término. Si se envían 9 ¿cuál es la probabilidad de que 7 lleguen a término?.<br>\r\n",
    "8. En relación con el enunciado anterior cálcule la probabilidad de que 7 o más lleguen a término.<br>\r\n",
    "Distribución de Poisson:<br>\r\n",
    "9. La cantidad de alumnos promedio que se ausentan en un día de clases en la carrera de Data Science es de 10. Calcular cual es la probabilidad de que se ausenten 7 alumnos.<br>\r\n",
    "10. Cuando inicia una clase, los estudiantes ingresan a un ritmo de 5 estudiantes por minuto. Calcular cual es la probabilidad de que ingresen 7 estudiantes por minuto.<br>\r\n",
    "\r\n",
    "## Ejercicios complementarios <br>\r\n",
    "\r\n",
    "11. Cada 3 días ingresan 10 estudiantes nuevos al Prep Course de Henry, calcule la probabilidad de que ingresen 15 nuevos estudiantes en un período de 6 días.<br>\r\n",
    "12. En una distribución de Poisson de lamba_np=3, cual es la probabilidad de x>=1.<br>\r\n",
    "Distribución Normal:<br>\r\n",
    "13. La calificación promedio de los estudiantes de Henry es de 78 con una desviación estandar de 25. Cual es la probabilidad de tener estudiantes con calificaciones mayores o iguales 90.\r\n",
    "\r\n",
    "---"
   ],
   "metadata": {}
  },
  {
   "cell_type": "markdown",
   "source": [
    "## Resolución de los ejercicios\r\n",
    "---\r\n",
    "1. Considera el experimento que consiste en un empleado que arma un producto.\r\n",
    "  - a. Defina la variable aleatoria que represente el tiempo en minutos requerido para armar el producto.<br>\r\n",
    "  - b. ¿Qué valores toma la variable aleatoria?<br>\r\n",
    "  - c. ¿Es una variable aleatoria discreta o continua?<br>\r\n",
    "\r\n",
    "\r\n",
    "a. **Definición de la variable aleatoria** <br>\r\n",
    "> x = Tiempo que toma armar un producto\r\n",
    "\r\n",
    "b. **Valores que puede tomar la variable** <br>\r\n",
    "> x >= 0\r\n",
    "\r\n",
    "c. **Tipo de variable aleatoria** <br>\r\n",
    "> Variable aleatoria continua\r\n",
    "\r\n",
    "---"
   ],
   "metadata": {}
  },
  {
   "cell_type": "markdown",
   "source": [
    "---\r\n",
    "2. Considera el experimento que consiste en lanzar una moneda dos veces.\r\n",
    "  - a. Enumere los resultados experimentales.\r\n",
    "  - b. Defina una variable aleatoria que represente el número de caras en los dos lanzamientos.\r\n",
    "  - c. Dé el valor que la variable aleatoria tomará en cada uno de los resultados experimentales.\r\n",
    "  - d. ¿Es una variable aleatoria discreta o continua?\r\n",
    "\r\n",
    "a. Enumerar resultados experimentales (siendo C = Cara,  X = Seca o Cruz)\r\n",
    "> {CC, CX, XC, XX}\r\n",
    "\r\n",
    "b. Defina la variable aleatoria que represente el numero de caras en los lanzamientos\r\n",
    "> x = número de caras obtenidas al arrojar una moneda dos veces\r\n",
    "\r\n",
    "c. Valores Posibles \r\n",
    "> * 0 caras --> XX\r\n",
    "> * 1 cara --> XC, CX\r\n",
    "> * 2 caras --> CC\r\n",
    "\r\n",
    "d. Tipo de variable aleatoria\r\n",
    "> Variable aleatoria discreta (binomial)\r\n",
    "---"
   ],
   "metadata": {}
  },
  {
   "cell_type": "code",
   "execution_count": 1,
   "source": [
    "p = 0.5 # probabilidad de obtener cara\r\n",
    "N = 2   # cantidad de veces que se tira la moneda\r\n",
    "m = 1   # cantidad de caras obtenidas\r\n",
    "def binomial(N, m, p):\r\n",
    "    import math\r\n",
    "    p = math.factorial(N)/(math.factorial(m)*math.factorial(N-m)) * p**m * (1-p)**(N-m)\r\n",
    "\r\n",
    "    return p\r\n",
    "\r\n",
    "c0 = binomial(N, 0, p)\r\n",
    "c1 = binomial(N, 1, p)\r\n",
    "c2 = binomial(N, 2, p)\r\n",
    "\r\n",
    "print(\"Probabilidad de obtener cero caras --> \", c0)\r\n",
    "print(\"Probabilidad de obtener una cara --> \", c1)\r\n",
    "print(\"Probabilidad de obtener dos caras --> \", c2)\r\n"
   ],
   "outputs": [
    {
     "output_type": "stream",
     "name": "stdout",
     "text": [
      "Probabilidad de obtener cero caras -->  0.25\n",
      "Probabilidad de obtener una cara -->  0.5\n",
      "Probabilidad de obtener dos caras -->  0.25\n"
     ]
    }
   ],
   "metadata": {}
  },
  {
   "cell_type": "markdown",
   "source": [
    "---\r\n",
    "3. Considera las decisiones de compra de los próximos tres clientes que lleguen a la tienda de ropa Martin Clothing Store. De acuerdo con la experiencia, el gerente de la tienda estima que la probabilidad de que un cliente realice una compra es 0.30. \r\n",
    "  - a. Describa si cumple con las reglas para clasificarlo como un experimiento binomial.\r\n",
    "  - b. ¿Cuál es la probabilidad de que dos de los próximos tres clientes realicen una compra?\r\n",
    "  - c. ¿Cuál es la probabilidad de que cuatro de los próximos diez clientes realicen una compra?\r\n",
    "\r\n",
    "---"
   ],
   "metadata": {}
  },
  {
   "cell_type": "code",
   "execution_count": 4,
   "source": [
    "\r\n",
    "p = 0.3  # probabilidad de que un cliente realice una compra\r\n",
    "q = 1 - p  # probabilidad de que un cliente no realice una compra\r\n",
    "\r\n",
    "\r\n",
    "# a) Cumple con las reglas para ser un experimento binomial??\r\n",
    "#   Rta: Cumple las reglas para que sea binomial, dado que solo hay dos posibilidades y los experimentos son independientes\r\n",
    "#   1) Cliente compra (p=0.3)\r\n",
    "#   2) Cliente no compra (q = 0.7)\r\n",
    "\r\n",
    "# b) Proobabilidad de que 2 de los proximos 3 clientes realicen la compra\r\n",
    "\r\n",
    "N = 3  # cantidad total de clientes\r\n",
    "m = 2  # cantidad de clientes que realizan la compra\r\n",
    "\r\n",
    "\r\n",
    "p_2_de_3 = binomial(N, m, p)\r\n",
    "\r\n",
    "print(f\"b) La probabilidad de que {m} de {N} clientes realicen una compra es {round(p_2_de_3, 3)}\")\r\n",
    "\r\n",
    "# Probabilidad de que 4 de los proximos 10 realicen la compra\r\n",
    "N2 = 10  # cantidad total de clientes\r\n",
    "m2 = 4   # cantidad de clientes que realizan la compra\r\n",
    "p_4_de_10 = binomial(N2, m2, p)\r\n",
    "print(f\"c) La probabilidad de que {m2} de {N2} clientes realicen una compra es {round(p_4_de_10, 3)}\")"
   ],
   "outputs": [
    {
     "output_type": "stream",
     "name": "stdout",
     "text": [
      "b) La probabilidad de que 2 de 3 clientes realicen una compra es 0.189\n",
      "c) La probabilidad de que 4 de 10 clientes realicen una compra es 0.2\n"
     ]
    }
   ],
   "metadata": {}
  },
  {
   "cell_type": "markdown",
   "source": [
    "---\r\n",
    "4.  A la oficina de reservaciones de una aerolínea regional llegan 48 llamadas por hora.\r\n",
    "- a. Calcule la probabilidad de recibir cinco llamadas en un lapso de 5 minutos.\r\n",
    "- b. Estime la probabilidad de recibir exactamente 10 llamadas en un lapso de 15 minutos.\r\n",
    "- c. Suponga que no hay ninguna llamada en espera. Si el agente de viajes necesitará 5 minutos para la llamada que está atendiendo, ¿cuántas llamadas habrá en espera para cuando él termine? ¿Cuál es la probabilidad de que no haya ninguna llamada en espera?\r\n",
    "- d. Si en este momento no hay ninguna llamada, ¿cuál es la probabilidad de que el agente de viajes pueda tomar 3 minutos de descanso sin ser interrumpido por una llamada?\r\n",
    "\r\n",
    "---"
   ],
   "metadata": {}
  },
  {
   "cell_type": "code",
   "execution_count": 12,
   "source": [
    "# Distribucion de Poisson\r\n",
    "# formula p(k) = lambda**k  *   e**(-lambda) / k!\r\n",
    "\r\n",
    "def poisson(lambda_1, k):\r\n",
    "    import math \r\n",
    "    p = lambda_1**k  * math.exp(-lambda_1)/math.factorial(k)\r\n",
    "    return p\r\n",
    "\r\n",
    "\r\n",
    "# Inciso a) 5 llamadas en 5 minutos\r\n",
    "min1 = 5\r\n",
    "lambda_1 = min1*48/60 \r\n",
    "k1 = 5\r\n",
    "\r\n",
    "p_5call_5min = poisson(lambda_1, k1)\r\n",
    "\r\n",
    "print(f\"a) La probabilidad de recibir {k1} llamadas en {min1} minutos es {round(p_5call_5min, 3)}\")\r\n",
    "\r\n",
    "\r\n",
    "# Inciso b) Exactamente 10 llamadas en 15 minutos\r\n",
    "\r\n",
    "min1 = 15\r\n",
    "lambda_1 = min1*48/60 \r\n",
    "k1 = 10\r\n",
    "\r\n",
    "p_10call_15min = poisson(lambda_1, k1)\r\n",
    "\r\n",
    "print(f\"b) La probabilidad de recibir {k1} llamadas en {min1} minutos es {round(p_10call_15min, 3)}\")\r\n",
    "\r\n",
    "# Inciso c) Cuantas llamadas habrá en espera luego de 5 minutos?\r\n",
    "print(f\"c) La cantidad 'promedio' de llamadas que habrá luego de 5 minutos es {int(5*48/60)} (el parametro lambda es la media)\")\r\n",
    "\r\n",
    "# Inciso d) Probabilidad de que en 3 minutos no se reciban llamadas\r\n",
    "\r\n",
    "min1 = 3\r\n",
    "lambda_1 = min1*48/60 \r\n",
    "k1 = 0\r\n",
    "\r\n",
    "p_0call_3min = poisson(lambda_1, k1)\r\n",
    "\r\n",
    "print(f\"d) Probabilidad de que el operador pueda descansar {min1} minutos? \\n    La probabilidad de recibir {k1} llamadas en {min1} minutos es {round(p_0call_3min, 3)}\")\r\n"
   ],
   "outputs": [
    {
     "output_type": "stream",
     "name": "stdout",
     "text": [
      "a) La probabilidad de recibir 5 llamadas en 5 minutos es 0.156\n",
      "b) La probabilidad de recibir 10 llamadas en 15 minutos es 0.105\n",
      "c) La cantidad 'promedio' de llamadas que habrá luego de 5 minutos es 4 (el parametro lambda es la media)\n",
      "d) Probabilidad de que el operador pueda descansar 3 minutos? \n",
      "    La probabilidad de recibir 0 llamadas en 3 minutos es 0.091\n"
     ]
    }
   ],
   "metadata": {}
  },
  {
   "cell_type": "markdown",
   "source": [
    "---\r\n",
    "5. En una encuesta realizada por Gallup Organization, se les preguntó a los interrogados, “Cuál es el deporte que prefieres ver”. Futbol y básquetbol ocuparon el primero y segundo lugar de preferencia (www.gallup.com, 3 de enero de 2004). Si en un grupo de 10 individuos, siete prefieren futbol y tres prefieren básquetbol. Se toma una muestra aleatoria de tres de estas personas.\r\n",
    "- a. ¿Cuál es la probabilidad de que exactamente dos prefieren el futbol?\r\n",
    "- b. ¿De que la mayoría (ya sean dos o tres) prefiere el futbol?\r\n",
    "\r\n",
    "---"
   ],
   "metadata": {}
  },
  {
   "cell_type": "code",
   "execution_count": 17,
   "source": [
    "p_futbol = 7/10\r\n",
    "p_basquet = 3/10\r\n",
    "\r\n",
    "# Inciso a) Muestra aleatoria de 3 personas. Probabilidad de que 2 prefieran el futbol\r\n",
    "# Forma 1 --> binomial\r\n",
    "N = 3  # cantidad total de la muestra\r\n",
    "m = 2  # exactamente 2 prefieran futbol\r\n",
    "p = p_futbol  # probabilidad de que prefieran futbol\r\n",
    "\r\n",
    "p_2_de_3_futbol = binomial(N,m,p)\r\n",
    "print(f\"a) (mediante binomial)La probabilidad de que {m} de {N} personas prefieran futbol es {round(p_2_de_3_futbol,3)}\")\r\n",
    "\r\n",
    "# Forma 2 - A mano\r\n",
    "p_2_de_3_futbol_v2 = p_futbol*p_futbol*p_basquet + p_futbol*p_basquet*p_futbol +  p_basquet*p_futbol*p_futbol\r\n",
    "print(f\"a) (artesanal)La probabilidad de que {m} de {N} personas prefieran futbol es {round(p_2_de_3_futbol_v2, 3)}\")\r\n",
    "\r\n",
    "\r\n",
    "# Inciso b) Que la mayoria prefieran futbol\r\n",
    "p_mayoria_futbol = binomial(N,2,p) + binomial(N,3,p)\r\n",
    "print(\"b) La probabilidad de que la mayoria de un grupo de 3 prefiera futbol es \", round(p_mayoria_futbol, 3))"
   ],
   "outputs": [
    {
     "output_type": "stream",
     "name": "stdout",
     "text": [
      "a) (mediante binomial)La probabilidad de que 2 de 3 personas prefieran futbol es 0.441\n",
      "a) (artesanal)La probabilidad de que 2 de 3 personas prefieran futbol es 0.441\n",
      "b) La probabilidad de que la mayoria de un grupo de 3 prefiera futbol es  0.784\n"
     ]
    }
   ],
   "metadata": {}
  },
  {
   "cell_type": "markdown",
   "source": [
    "---\r\n",
    "6. La probabilidad de que a un estudiante le guste este modulo es de 0.7 (en Henry somos optimistas), cual es la probabilidad de que les guste este módulo a 6 de los 10 estudiantes.<br>\r\n",
    "\r\n",
    "---"
   ],
   "metadata": {}
  },
  {
   "cell_type": "code",
   "execution_count": 19,
   "source": [
    "N = 10  # cantidad de estudiantes\r\n",
    "m = 6  # cantidad de estudiantes que realmente disfrutan este modulo\r\n",
    "p = 0.7  # probabilidad de agrado de 1 estudiante\r\n",
    "\r\n",
    "prob = binomial(10, 6, 0.7)\r\n",
    "print(f\"La probabilidad de que les guste a {m} de {N} estudiantes es {round(prob, 3)}\")"
   ],
   "outputs": [
    {
     "output_type": "stream",
     "name": "stdout",
     "text": [
      "La probabilidad de que les guste a 6 de 10 estudiantes es 0.2\n"
     ]
    }
   ],
   "metadata": {}
  },
  {
   "cell_type": "markdown",
   "source": [
    "---\r\n",
    "7. De todos los push a Git en un Henry Challenge, el 90% lo envía a término. Si se envían 9 ¿cuál es la probabilidad de que 7 lleguen a término?.<br>\r\n",
    "\r\n",
    "---"
   ],
   "metadata": {}
  },
  {
   "cell_type": "code",
   "execution_count": 20,
   "source": [
    "p = 0.9  # probabilidad de enviar un push en Git a tiempo\r\n",
    "N = 9   # cantidad de push enviados\r\n",
    "m = 7   # cantidad de push enviados a tiempo\r\n",
    "\r\n",
    "prob = binomial(N, m, p)\r\n",
    "print(f\"Probabilidad de que {m} de cada {N} push de Github lleguen a tiempo --> {round(prob,3)}\")"
   ],
   "outputs": [
    {
     "output_type": "stream",
     "name": "stdout",
     "text": [
      "Probabilidad de que 7 de cada 9 push de Github lleguen a tiempo --> 0.172\n"
     ]
    }
   ],
   "metadata": {}
  },
  {
   "cell_type": "markdown",
   "source": [
    "---\r\n",
    "8. En relación con el enunciado anterior cálcule la probabilidad de que 7 o más lleguen a término.<br>\r\n",
    "---"
   ],
   "metadata": {}
  },
  {
   "cell_type": "code",
   "execution_count": 21,
   "source": [
    "p = 0.9  # probabilidad de enviar un push en Git a tiempo\r\n",
    "N = 9   # cantidad de push enviados\r\n",
    "\r\n",
    "prob = binomial(N,7,p) + binomial(N,8,p) + binomial(N,9,p)\r\n",
    "print(f\"Probabilidad de que 7 o mas lleguen a tiempo --> {round(prob, 4)}\")"
   ],
   "outputs": [
    {
     "output_type": "stream",
     "name": "stdout",
     "text": [
      "Probabilidad de que 7 o mas lleguen a tiempo --> 0.947\n"
     ]
    }
   ],
   "metadata": {}
  },
  {
   "cell_type": "markdown",
   "source": [
    "---\r\n",
    "9. La cantidad de alumnos promedio que se ausentan en un día de clases en la carrera de Data Science es de 10. Calcular cual es la probabilidad de que se ausenten 7 alumnos.<br>\r\n",
    "\r\n",
    "---"
   ],
   "metadata": {}
  },
  {
   "cell_type": "code",
   "execution_count": 22,
   "source": [
    "# Utilizando aprox. de Poisson\r\n",
    "\r\n",
    "lambda_1 = 10\r\n",
    "k = 7\r\n",
    "p = poisson(lambda_1, k)\r\n",
    "\r\n",
    "print(f\"La probabilidad de que se ausenten {k} alumnos en un dia es {round(p,3)}\")"
   ],
   "outputs": [
    {
     "output_type": "stream",
     "name": "stdout",
     "text": [
      "La probabilidad de que se ausenten 7 alumnos en un dia es 0.09\n"
     ]
    }
   ],
   "metadata": {}
  },
  {
   "cell_type": "markdown",
   "source": [
    "---\r\n",
    "10. Cuando inicia una clase, los estudiantes ingresan a un ritmo de 5 estudiantes por minuto. Calcular cual es la probabilidad de que ingresen 7 estudiantes por minuto.<br>\r\n",
    "\r\n",
    "---"
   ],
   "metadata": {}
  },
  {
   "cell_type": "code",
   "execution_count": 23,
   "source": [
    "lambda_1 = 5\r\n",
    "k = 7\r\n",
    "p = poisson(lambda_1, k)\r\n",
    "print(f\"La probabilidad de que ingresen {k} estudiantes por minuto es {round(p, 3)}\")"
   ],
   "outputs": [
    {
     "output_type": "stream",
     "name": "stdout",
     "text": [
      "La probabilidad de que ingresen 7 estudiantes por minuto es 0.104\n"
     ]
    }
   ],
   "metadata": {}
  },
  {
   "cell_type": "markdown",
   "source": [
    "---\r\n",
    "### Ejercicios complementarios\r\n",
    "\r\n",
    "---\r\n",
    "11. Cada 3 días ingresan 10 estudiantes nuevos al Prep Course de Henry, calcule la probabilidad de que ingresen 15 nuevos estudiantes en un período de 6 días.<br>\r\n",
    "\r\n",
    "---"
   ],
   "metadata": {}
  },
  {
   "cell_type": "code",
   "execution_count": 24,
   "source": [
    "lambda_1 = 20   # Cantidad de ingresantes promedio en 6 dias\r\n",
    "k = 15\r\n",
    "\r\n",
    "p = poisson(lambda_1, k)\r\n",
    "print(f\"Probabilidad de que {k} estudiantes ingresen en 6 dias --> {round(p,3)}\") \r\n"
   ],
   "outputs": [
    {
     "output_type": "stream",
     "name": "stdout",
     "text": [
      "Probabilidad de que 15 estudiantes ingresen en 6 dias --> 0.052\n"
     ]
    }
   ],
   "metadata": {}
  },
  {
   "cell_type": "markdown",
   "source": [
    "---\r\n",
    "12. En una distribución de Poisson de lamba_np=3, cual es la probabilidad de x>=1.<br>\r\n",
    "\r\n",
    "---"
   ],
   "metadata": {}
  },
  {
   "cell_type": "code",
   "execution_count": 26,
   "source": [
    "lambda_1 = 3\r\n",
    "k = 0\r\n",
    "\r\n",
    "p = 1- poisson(lambda_1, k)\r\n",
    "\r\n",
    "print(f\"Probabilidad de que x >= 1  --> {round(p, 3)}\")"
   ],
   "outputs": [
    {
     "output_type": "stream",
     "name": "stdout",
     "text": [
      "Probabilidad de que x >= 1  --> 0.95\n"
     ]
    }
   ],
   "metadata": {}
  },
  {
   "cell_type": "markdown",
   "source": [
    "---\r\n",
    "13. La calificación promedio de los estudiantes de Henry es de 78 con una desviación estandar de 25. Cual es la probabilidad de tener estudiantes con calificaciones mayores o iguales 90.\r\n",
    "(Distribucion Normal)\r\n",
    "---"
   ],
   "metadata": {}
  },
  {
   "cell_type": "code",
   "execution_count": 33,
   "source": [
    "from scipy import stats\r\n",
    "\r\n",
    "mu = 78\r\n",
    "std = 25\r\n",
    "x = 90\r\n",
    "\r\n",
    "\r\n",
    "\r\n",
    "\r\n",
    "# Forma 1 --> Utilizando scipy\r\n",
    "# norm(loc = 5.3 , scale = 1).cdf(4.5)\r\n",
    "p = 1 - stats.norm(loc = mu, scale = std).cdf(x)\r\n",
    "print(\"Probabilidad de tener estudiantes con calificaciones mayores o iguales a 90 --> \", round(p, 5) )\r\n",
    "\r\n",
    "# Forma 2 --> Utilizando las tablas\r\n",
    "# Debemos normalizar la entrada para tener media cero y desviacion 1\r\n",
    "z = (x - mu)/std   # Esto da 0.48\r\n",
    "\r\n",
    "# Luego entramos a la tabla --> Cuidado, hay tablas que dan las probabilidades de que Z > z1 y otras de que sea menor\r\n",
    "\r\n",
    "# Si entramos a la tabla provista por Henry (da los mayores porque colorea la cola derecha de la curva) con z = 0.48\r\n",
    "# Nos da una probabilidad p = 0.3156\r\n",
    "\r\n",
    "print(f\"Probabilidad utilizando las tablas provistas --> {0.3156}\")\r\n"
   ],
   "outputs": [
    {
     "output_type": "stream",
     "name": "stdout",
     "text": [
      "Probabilidad de tener estudiantes con calificaciones mayores o iguales a 90 -->  0.31561\n",
      "Probabilidad utilizando las tablas provistas --> 0.3156\n"
     ]
    }
   ],
   "metadata": {}
  }
 ],
 "metadata": {
  "orig_nbformat": 4,
  "language_info": {
   "name": "python",
   "version": "3.7.9",
   "mimetype": "text/x-python",
   "codemirror_mode": {
    "name": "ipython",
    "version": 3
   },
   "pygments_lexer": "ipython3",
   "nbconvert_exporter": "python",
   "file_extension": ".py"
  },
  "kernelspec": {
   "name": "python3",
   "display_name": "Python 3.7.9 64-bit ('tensorflow': conda)"
  },
  "interpreter": {
   "hash": "3c8d1d2a25cdde75dbf1c2bdac63de99d2a191c856d481faee4414c996579bad"
  }
 },
 "nbformat": 4,
 "nbformat_minor": 2
}